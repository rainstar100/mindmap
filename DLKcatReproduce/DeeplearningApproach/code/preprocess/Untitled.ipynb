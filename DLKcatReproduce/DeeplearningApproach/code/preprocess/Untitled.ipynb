{
 "cells": [
  {
   "cell_type": "code",
   "execution_count": 2,
   "id": "ccc987c6-cf74-47cd-b502-631469b2df8e",
   "metadata": {},
   "outputs": [],
   "source": [
    "#import package \n",
    "import pandas as pd\n",
    "from brenda_crawl import crawl\n",
    "from tools.tool import response_to_txt"
   ]
  },
  {
   "cell_type": "code",
   "execution_count": 4,
   "id": "8db66130-7ddf-40cf-99c4-a9b4fe06a0c4",
   "metadata": {},
   "outputs": [],
   "source": [
    "#set path of input and output\n",
    "input_path='../../data/database/brenda_raw/'\n",
    "output_path='../../data/database/brenda_raw/KCAT/'"
   ]
  },
  {
   "cell_type": "code",
   "execution_count": 5,
   "id": "b6c9100c-856c-4e46-bc2e-1fc5745876e1",
   "metadata": {},
   "outputs": [],
   "source": [
    "#read ecNumbers\n",
    "df=pd.read_csv(input_path+'brenda_ecNumbers.csv').iloc[:,0]"
   ]
  },
  {
   "cell_type": "code",
   "execution_count": 6,
   "id": "0f5153e7-af4a-4ea1-8717-9a2ed7da2ba5",
   "metadata": {},
   "outputs": [],
   "source": [
    "# set the start ecNumber for crawler\n",
    "start_ecNumber='3.4.21.101'\n",
    "if start_ecNumber=='':\n",
    "    start_point=0\n",
    "else:\n",
    "    start_point=df[df==start_ecNumber].index.values[0]"
   ]
  },
  {
   "cell_type": "code",
   "execution_count": 7,
   "id": "53407c70-ec3b-4d97-8ff3-5b6ea664c138",
   "metadata": {},
   "outputs": [
    {
     "data": {
      "text/plain": [
       "np.int64(2417)"
      ]
     },
     "execution_count": 7,
     "metadata": {},
     "output_type": "execute_result"
    }
   ],
   "source": [
    "start_point"
   ]
  },
  {
   "cell_type": "code",
   "execution_count": 28,
   "id": "2583136e-0e65-4d61-878b-74172b68b077",
   "metadata": {},
   "outputs": [
    {
     "name": "stdout",
     "output_type": "stream",
     "text": [
      "{'ecno': '2.4.2.3'}\n",
      "Function crawl executed in 3.9221 seconds\n",
      "../../data/database/brenda_raw/KCAT/EC2.4.2.3_KCAT.txt\n",
      "saved\n"
     ]
    }
   ],
   "source": [
    "## crawl and save\n",
    "for ecNumber in df[start_point:]:\n",
    "    response=crawl(params = {'ecno':ecNumber,})\n",
    "    file_name = output_path+'EC' + ecNumber+ '_KCAT' +'.txt'\n",
    "    response_to_txt(file_name,response)"
   ]
  },
  {
   "cell_type": "code",
   "execution_count": null,
   "id": "3e13c3a7-50db-443c-9496-b21cf5a547c9",
   "metadata": {},
   "outputs": [],
   "source": []
  }
 ],
 "metadata": {
  "kernelspec": {
   "display_name": "Python 3 (ipykernel)",
   "language": "python",
   "name": "python3"
  },
  "language_info": {
   "codemirror_mode": {
    "name": "ipython",
    "version": 3
   },
   "file_extension": ".py",
   "mimetype": "text/x-python",
   "name": "python",
   "nbconvert_exporter": "python",
   "pygments_lexer": "ipython3",
   "version": "3.12.5"
  }
 },
 "nbformat": 4,
 "nbformat_minor": 5
}
