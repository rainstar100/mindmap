{
 "cells": [
  {
   "cell_type": "code",
   "execution_count": null,
   "id": "a24789a4-3a39-4eb6-9fa5-f44873c032fb",
   "metadata": {},
   "outputs": [],
   "source": [
    "#clean data\n",
    "soup = BeautifulSoup(response.text, 'lxml')\n",
    "tags=soup.find_all('div',id=re.compile(\"^(tab44_head|tab44r)\"))\n",
    "data_list=[]\n",
    "for tag in tags:\n",
    "    row=tag.get_text().split('\\n')\n",
    "    print(row)\n",
    "    if len(row)==9 and row[4]!='-' and row[4]!='UNIPROT':\n",
    "        data_list.append(row)\n",
    "    else:\n",
    "        print('delete')"
   ]
  }
 ],
 "metadata": {
  "kernelspec": {
   "display_name": "Python 3 (ipykernel)",
   "language": "python",
   "name": "python3"
  },
  "language_info": {
   "codemirror_mode": {
    "name": "ipython",
    "version": 3
   },
   "file_extension": ".py",
   "mimetype": "text/x-python",
   "name": "python",
   "nbconvert_exporter": "python",
   "pygments_lexer": "ipython3",
   "version": "3.12.5"
  }
 },
 "nbformat": 4,
 "nbformat_minor": 5
}
