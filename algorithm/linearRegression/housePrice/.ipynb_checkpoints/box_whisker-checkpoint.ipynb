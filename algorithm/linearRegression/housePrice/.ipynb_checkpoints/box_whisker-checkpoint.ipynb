{
 "cells": [
  {
   "cell_type": "code",
   "execution_count": 3,
   "id": "44ede01c-e7b5-410d-a3d1-9c4945dbcf75",
   "metadata": {},
   "outputs": [
    {
     "data": {
      "text/plain": [
       "<module 'pandas' from 'D:\\\\anaconda3\\\\lib\\\\site-packages\\\\pandas\\\\__init__.py'>"
      ]
     },
     "execution_count": 3,
     "metadata": {},
     "output_type": "execute_result"
    }
   ],
   "source": [
    "import pandas as pd\n",
    "import numpy as np\n",
    "pd"
   ]
  },
  {
   "cell_type": "code",
   "execution_count": 4,
   "id": "7eb2f38b-5645-46e9-8c94-0bf7788cd18f",
   "metadata": {},
   "outputs": [
    {
     "data": {
      "image/png": "[encoded data removed]",
      "text/plain": [
       "<Figure size 432x288 with 2 Axes>"
      ]
     },
     "metadata": {
      "needs_background": "light"
     },
     "output_type": "display_data"
    }
   ],
   "source": [
    "df = pd.DataFrame(np.random.randn(10, 2),\n",
    "                  columns=['Col1', 'Col2'])\n",
    "df['X'] = pd.Series(['A', 'A', 'A', 'A', 'A',\n",
    "                     'B', 'B', 'B', 'B', 'B'])\n",
    "boxplot = df.boxplot(by='X')"
   ]
  },
  {
   "cell_type": "code",
   "execution_count": 5,
   "id": "da099801-96f6-40da-8e6a-fbc315ec3c32",
   "metadata": {},
   "outputs": [
    {
     "data": {
      "text/html": [
       "<div>\n",
       "<style scoped>\n",
       "    .dataframe tbody tr th:only-of-type {\n",
       "        vertical-align: middle;\n",
       "    }\n",
       "\n",
       "    .dataframe tbody tr th {\n",
       "        vertical-align: top;\n",
       "    }\n",
       "\n",
       "    .dataframe thead th {\n",
       "        text-align: right;\n",
       "    }\n",
       "</style>\n",
       "<table border=\"1\" class=\"dataframe\">\n",
       "  <thead>\n",
       "    <tr style=\"text-align: right;\">\n",
       "      <th></th>\n",
       "      <th>Col1</th>\n",
       "      <th>Col2</th>\n",
       "      <th>X</th>\n",
       "    </tr>\n",
       "  </thead>\n",
       "  <tbody>\n",
       "    <tr>\n",
       "      <th>0</th>\n",
       "      <td>-0.896402</td>\n",
       "      <td>1.452461</td>\n",
       "      <td>A</td>\n",
       "    </tr>\n",
       "    <tr>\n",
       "      <th>1</th>\n",
       "      <td>-0.840841</td>\n",
       "      <td>-1.040225</td>\n",
       "      <td>A</td>\n",
       "    </tr>\n",
       "    <tr>\n",
       "      <th>2</th>\n",
       "      <td>-0.622415</td>\n",
       "      <td>0.743641</td>\n",
       "      <td>A</td>\n",
       "    </tr>\n",
       "    <tr>\n",
       "      <th>3</th>\n",
       "      <td>-0.002653</td>\n",
       "      <td>0.187133</td>\n",
       "      <td>A</td>\n",
       "    </tr>\n",
       "    <tr>\n",
       "      <th>4</th>\n",
       "      <td>-0.429542</td>\n",
       "      <td>0.719394</td>\n",
       "      <td>A</td>\n",
       "    </tr>\n",
       "    <tr>\n",
       "      <th>5</th>\n",
       "      <td>-0.818034</td>\n",
       "      <td>0.496509</td>\n",
       "      <td>B</td>\n",
       "    </tr>\n",
       "    <tr>\n",
       "      <th>6</th>\n",
       "      <td>-0.344131</td>\n",
       "      <td>-0.897077</td>\n",
       "      <td>B</td>\n",
       "    </tr>\n",
       "    <tr>\n",
       "      <th>7</th>\n",
       "      <td>-1.066792</td>\n",
       "      <td>0.850084</td>\n",
       "      <td>B</td>\n",
       "    </tr>\n",
       "    <tr>\n",
       "      <th>8</th>\n",
       "      <td>0.348113</td>\n",
       "      <td>0.688534</td>\n",
       "      <td>B</td>\n",
       "    </tr>\n",
       "    <tr>\n",
       "      <th>9</th>\n",
       "      <td>0.813696</td>\n",
       "      <td>0.857020</td>\n",
       "      <td>B</td>\n",
       "    </tr>\n",
       "  </tbody>\n",
       "</table>\n",
       "</div>"
      ],
      "text/plain": [
       "       Col1      Col2  X\n",
       "0 -0.896402  1.452461  A\n",
       "1 -0.840841 -1.040225  A\n",
       "2 -0.622415  0.743641  A\n",
       "3 -0.002653  0.187133  A\n",
       "4 -0.429542  0.719394  A\n",
       "5 -0.818034  0.496509  B\n",
       "6 -0.344131 -0.897077  B\n",
       "7 -1.066792  0.850084  B\n",
       "8  0.348113  0.688534  B\n",
       "9  0.813696  0.857020  B"
      ]
     },
     "execution_count": 5,
     "metadata": {},
     "output_type": "execute_result"
    }
   ],
   "source": [
    "df"
   ]
  },
  {
   "cell_type": "code",
   "execution_count": 10,
   "id": "e4a4f92f-946b-4c04-ab48-8b08e804f736",
   "metadata": {},
   "outputs": [
    {
     "data": {
      "text/plain": [
       "6   -0.897077\n",
       "5    0.496509\n",
       "8    0.688534\n",
       "7    0.850084\n",
       "9    0.857020\n",
       "Name: Col2, dtype: float64"
      ]
     },
     "execution_count": 10,
     "metadata": {},
     "output_type": "execute_result"
    }
   ],
   "source": [
    "df[5:]['Col2'].sort_values(ascending=True)"
   ]
  },
  {
   "cell_type": "markdown",
   "id": "81c1ae39-7bef-4bb1-8183-f94cb7745329",
   "metadata": {},
   "source": [
    "# describe the data with data at quartile\n",
    "## the box\n",
    "- Q1: the lower edge of box, the 25% of the size of the ascending data\n",
    "- Q3: the upper edge of box, the 75% of the size of the ascending data\n",
    "- Q2: within the box, the 50% of the size of the ascending data\n",
    "\n",
    "## the whisker\n",
    "- start: at the lower and upper edge of box\n",
    "- end: ending at the farthest data within the interval tha 1.5*IQR(Q3-Q1)\n",
    "\n",
    "## the outliers\n",
    "- the seperate dots ,out of the interval tha 1.5*IQR(Q3-Q1)\n",
    "\n",
    "# application\n",
    "- show the outliers\n"
   ]
  },
  {
   "cell_type": "code",
   "execution_count": null,
   "id": "ea56769c-36c3-478a-82f2-0a27eb613de3",
   "metadata": {},
   "outputs": [],
   "source": []
  }
 ],
 "metadata": {
  "kernelspec": {
   "display_name": "Python 3 (ipykernel)",
   "language": "python",
   "name": "python3"
  },
  "language_info": {
   "codemirror_mode": {
    "name": "ipython",
    "version": 3
   },
   "file_extension": ".py",
   "mimetype": "text/x-python",
   "name": "python",
   "nbconvert_exporter": "python",
   "pygments_lexer": "ipython3",
   "version": "3.9.12"
  }
 },
 "nbformat": 4,
 "nbformat_minor": 5
}
