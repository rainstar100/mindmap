{
 "cells": [
  {
   "cell_type": "code",
   "execution_count": 2,
   "metadata": {},
   "outputs": [],
   "source": [
    "import numpy as np "
   ]
  },
  {
   "cell_type": "code",
   "execution_count": 3,
   "metadata": {},
   "outputs": [],
   "source": [
    "a=np.array([1,2,3])\n",
    "aa=np.array([[1,2,3],[1,2,3]])\n",
    "b=np.array([1])\n",
    "c=np.array([1,2])\n",
    "d=np.array([1,2,3])"
   ]
  },
  {
   "cell_type": "code",
   "execution_count": 22,
   "metadata": {},
   "outputs": [
    {
     "name": "stdout",
     "output_type": "stream",
     "text": [
      "[1 2 3]\n",
      "[[1 4 9]\n",
      " [1 4 9]]\n",
      "[[1 4 9]\n",
      " [1 4 9]]\n",
      "[[1 2 3]\n",
      " [1 2 3]]\n",
      "[[1 2 3]\n",
      " [1 2 3]]\n"
     ]
    }
   ],
   "source": [
    "#“ * ”运算，普通乘法，对应位置做乘法,2个乘数的列数一一对应或者是一对多\n",
    "print(a*b)\n",
    "print(a*aa)\n",
    "print(aa*a)\n",
    "print(aa*b)\n",
    "print(b*aa)"
   ]
  },
  {
   "cell_type": "code",
   "execution_count": 23,
   "metadata": {},
   "outputs": [
    {
     "name": "stdout",
     "output_type": "stream",
     "text": [
      "[1. 2. 3.]\n",
      "[[1. 1. 1.]\n",
      " [1. 1. 1.]]\n",
      "[[1. 1. 1.]\n",
      " [1. 1. 1.]]\n",
      "[[1. 2. 3.]\n",
      " [1. 2. 3.]]\n",
      "[[1.         0.5        0.33333333]\n",
      " [1.         0.5        0.33333333]]\n"
     ]
    }
   ],
   "source": [
    "#“ / ”运算，普通乘法，对应位置做乘法,2个乘数的列数一一对应或者是一对多\n",
    "print(a/b)\n",
    "print(a/aa)\n",
    "print(aa/a)\n",
    "print(aa/b)\n",
    "print(b/aa)"
   ]
  },
  {
   "cell_type": "code",
   "execution_count": 24,
   "metadata": {},
   "outputs": [
    {
     "name": "stdout",
     "output_type": "stream",
     "text": [
      "[2 3 4]\n",
      "[[2 4 6]\n",
      " [2 4 6]]\n",
      "[[2 4 6]\n",
      " [2 4 6]]\n",
      "[[2 3 4]\n",
      " [2 3 4]]\n",
      "[[2 3 4]\n",
      " [2 3 4]]\n"
     ]
    }
   ],
   "source": [
    "#“ + ”运算，普通乘法，对应位置做乘法,2个乘数的列数一一对应或者是一对多\n",
    "print(a+b)\n",
    "print(a+aa)\n",
    "print(aa+a)\n",
    "print(aa+b)\n",
    "print(b+aa)"
   ]
  },
  {
   "cell_type": "code",
   "execution_count": 25,
   "metadata": {},
   "outputs": [
    {
     "name": "stdout",
     "output_type": "stream",
     "text": [
      "[0 1 2]\n",
      "[[0 0 0]\n",
      " [0 0 0]]\n",
      "[[0 0 0]\n",
      " [0 0 0]]\n",
      "[[0 1 2]\n",
      " [0 1 2]]\n",
      "[[ 0 -1 -2]\n",
      " [ 0 -1 -2]]\n"
     ]
    },
    {
     "data": {
      "text/plain": [
       "array([[1, 4, 9],\n",
       "       [1, 4, 9]])"
      ]
     },
     "execution_count": 25,
     "metadata": {},
     "output_type": "execute_result"
    }
   ],
   "source": [
    "#“ - ”运算，普通乘法，对应位置做乘法,2个乘数的列数一一对应或者是一对多\n",
    "print(a-b)\n",
    "print(a-aa)\n",
    "print(aa-a)\n",
    "print(aa-b)\n",
    "print(b-aa)\n",
    "a*aa"
   ]
  },
  {
   "cell_type": "code",
   "execution_count": null,
   "metadata": {},
   "outputs": [],
   "source": [
    "#总结\n",
    "#四则运算（加减乘除），要求数组形状(shape)相同，或者是多维数组和一维度数组），如果n对m n不等于m，将报错。\n"
   ]
  },
  {
   "cell_type": "code",
   "execution_count": 9,
   "metadata": {},
   "outputs": [
    {
     "name": "stdout",
     "output_type": "stream",
     "text": [
      "[14 14]\n"
     ]
    },
    {
     "ename": "ValueError",
     "evalue": "shapes (1,) and (2,3) not aligned: 1 (dim 0) != 2 (dim 0)",
     "output_type": "error",
     "traceback": [
      "\u001b[1;31m---------------------------------------------------------------------------\u001b[0m",
      "\u001b[1;31mValueError\u001b[0m                                Traceback (most recent call last)",
      "\u001b[1;32m<ipython-input-9-3e6747c27502>\u001b[0m in \u001b[0;36m<module>\u001b[1;34m\u001b[0m\n\u001b[0;32m      4\u001b[0m \u001b[0mprint\u001b[0m\u001b[1;33m(\u001b[0m\u001b[0mnp\u001b[0m\u001b[1;33m.\u001b[0m\u001b[0mdot\u001b[0m\u001b[1;33m(\u001b[0m\u001b[0maa\u001b[0m\u001b[1;33m,\u001b[0m\u001b[0ma\u001b[0m\u001b[1;33m)\u001b[0m\u001b[1;33m)\u001b[0m\u001b[1;33m\u001b[0m\u001b[1;33m\u001b[0m\u001b[0m\n\u001b[0;32m      5\u001b[0m \u001b[1;31m#print(np.dot(aa,b)) shapes (2,3) and (1,) not aligned: 3 (dim 1) != 1 (dim 0)\u001b[0m\u001b[1;33m\u001b[0m\u001b[1;33m\u001b[0m\u001b[1;33m\u001b[0m\u001b[0m\n\u001b[1;32m----> 6\u001b[1;33m \u001b[0mprint\u001b[0m\u001b[1;33m(\u001b[0m\u001b[0mnp\u001b[0m\u001b[1;33m.\u001b[0m\u001b[0mdot\u001b[0m\u001b[1;33m(\u001b[0m\u001b[0mb\u001b[0m\u001b[1;33m,\u001b[0m\u001b[0maa\u001b[0m\u001b[1;33m)\u001b[0m\u001b[1;33m)\u001b[0m\u001b[1;33m\u001b[0m\u001b[1;33m\u001b[0m\u001b[0m\n\u001b[0m",
      "\u001b[1;32m<__array_function__ internals>\u001b[0m in \u001b[0;36mdot\u001b[1;34m(*args, **kwargs)\u001b[0m\n",
      "\u001b[1;31mValueError\u001b[0m: shapes (1,) and (2,3) not aligned: 1 (dim 0) != 2 (dim 0)"
     ]
    }
   ],
   "source": [
    "#np.dot,点乘，向量乘法\n",
    "#print(np.dot(a,b)), shapes (3,) and (1,) not aligned: 3 (dim 0) != 1 (dim 0)\n",
    "#print(np.dot(a,aa))，shapes (3,) and (2,3) not aligned: 3 (dim 0) != 2 (dim 0)\n",
    "print(np.dot(aa,a)) #行列点乘，2行3列*3行1列\n",
    "#print(np.dot(aa,b)) shapes (2,3) and (1,) not aligned: 3 (dim 1) != 1 (dim 0)\n",
    "print(np.dot(b,aa))\n"
   ]
  },
  {
   "cell_type": "code",
   "execution_count": null,
   "metadata": {},
   "outputs": [],
   "source": [
    "#np.dot ,行列点乘，被乘数的列数=乘数的行数，列数=行数"
   ]
  }
 ],
 "metadata": {
  "interpreter": {
   "hash": "a8f61be024eba58adef938c9aa1e29e02cb3dece83a5348b1a2dafd16a070453"
  },
  "kernelspec": {
   "display_name": "Python 3.8.8 64-bit ('base': conda)",
   "language": "python",
   "name": "python3"
  },
  "language_info": {
   "codemirror_mode": {
    "name": "ipython",
    "version": 3
   },
   "file_extension": ".py",
   "mimetype": "text/x-python",
   "name": "python",
   "nbconvert_exporter": "python",
   "pygments_lexer": "ipython3",
   "version": "3.8.8"
  },
  "orig_nbformat": 4
 },
 "nbformat": 4,
 "nbformat_minor": 2
}
