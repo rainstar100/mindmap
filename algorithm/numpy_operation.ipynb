{
 "cells": [
  {
   "cell_type": "code",
   "execution_count": 1,
   "metadata": {},
   "outputs": [],
   "source": [
    "import numpy as np "
   ]
  },
  {
   "cell_type": "code",
   "execution_count": 12,
   "metadata": {},
   "outputs": [],
   "source": [
    "a=np.array([1,2,3])\n",
    "aa=np.array([[1,2,3],[1,2,3]])\n",
    "b=np.array([1])\n",
    "c=np.array([1,2])\n",
    "d=np.array([1,2,3])"
   ]
  },
  {
   "cell_type": "code",
   "execution_count": 22,
   "metadata": {},
   "outputs": [
    {
     "name": "stdout",
     "output_type": "stream",
     "text": [
      "[1 2 3]\n",
      "[[1 4 9]\n",
      " [1 4 9]]\n",
      "[[1 4 9]\n",
      " [1 4 9]]\n",
      "[[1 2 3]\n",
      " [1 2 3]]\n",
      "[[1 2 3]\n",
      " [1 2 3]]\n"
     ]
    }
   ],
   "source": [
    "#“ * ”运算，普通乘法，对应位置做乘法,2个乘数的列数一一对应或者是一对多\n",
    "print(a*b)\n",
    "print(a*aa)\n",
    "print(aa*a)\n",
    "print(aa*b)\n",
    "print(b*aa)"
   ]
  },
  {
   "cell_type": "code",
   "execution_count": 23,
   "metadata": {},
   "outputs": [
    {
     "name": "stdout",
     "output_type": "stream",
     "text": [
      "[1. 2. 3.]\n",
      "[[1. 1. 1.]\n",
      " [1. 1. 1.]]\n",
      "[[1. 1. 1.]\n",
      " [1. 1. 1.]]\n",
      "[[1. 2. 3.]\n",
      " [1. 2. 3.]]\n",
      "[[1.         0.5        0.33333333]\n",
      " [1.         0.5        0.33333333]]\n"
     ]
    }
   ],
   "source": [
    "#“ / ”运算，普通乘法，对应位置做乘法,2个乘数的列数一一对应或者是一对多\n",
    "print(a/b)\n",
    "print(a/aa)\n",
    "print(aa/a)\n",
    "print(aa/b)\n",
    "print(b/aa)"
   ]
  },
  {
   "cell_type": "code",
   "execution_count": 24,
   "metadata": {},
   "outputs": [
    {
     "name": "stdout",
     "output_type": "stream",
     "text": [
      "[2 3 4]\n",
      "[[2 4 6]\n",
      " [2 4 6]]\n",
      "[[2 4 6]\n",
      " [2 4 6]]\n",
      "[[2 3 4]\n",
      " [2 3 4]]\n",
      "[[2 3 4]\n",
      " [2 3 4]]\n"
     ]
    }
   ],
   "source": [
    "#“ + ”运算，普通乘法，对应位置做乘法,2个乘数的列数一一对应或者是一对多\n",
    "print(a+b)\n",
    "print(a+aa)\n",
    "print(aa+a)\n",
    "print(aa+b)\n",
    "print(b+aa)"
   ]
  },
  {
   "cell_type": "code",
   "execution_count": 25,
   "metadata": {},
   "outputs": [
    {
     "name": "stdout",
     "output_type": "stream",
     "text": [
      "[0 1 2]\n",
      "[[0 0 0]\n",
      " [0 0 0]]\n",
      "[[0 0 0]\n",
      " [0 0 0]]\n",
      "[[0 1 2]\n",
      " [0 1 2]]\n",
      "[[ 0 -1 -2]\n",
      " [ 0 -1 -2]]\n"
     ]
    },
    {
     "data": {
      "text/plain": [
       "array([[1, 4, 9],\n",
       "       [1, 4, 9]])"
      ]
     },
     "execution_count": 25,
     "metadata": {},
     "output_type": "execute_result"
    }
   ],
   "source": [
    "#“ - ”运算，普通乘法，对应位置做乘法,2个乘数的列数一一对应或者是一对多\n",
    "print(a-b)\n",
    "print(a-aa)\n",
    "print(aa-a)\n",
    "print(aa-b)\n",
    "print(b-aa)\n",
    "a*aa"
   ]
  },
  {
   "cell_type": "code",
   "execution_count": null,
   "metadata": {},
   "outputs": [],
   "source": [
    "#总结\n",
    "#加减乘除，要求列数一一对应，或者是一对多，如果n对m n不等于m，将报错。\n"
   ]
  }
 ],
 "metadata": {
  "interpreter": {
   "hash": "a8f61be024eba58adef938c9aa1e29e02cb3dece83a5348b1a2dafd16a070453"
  },
  "kernelspec": {
   "display_name": "Python 3.8.8 64-bit ('base': conda)",
   "language": "python",
   "name": "python3"
  },
  "language_info": {
   "codemirror_mode": {
    "name": "ipython",
    "version": 3
   },
   "file_extension": ".py",
   "mimetype": "text/x-python",
   "name": "python",
   "nbconvert_exporter": "python",
   "pygments_lexer": "ipython3",
   "version": "3.8.8"
  },
  "orig_nbformat": 4
 },
 "nbformat": 4,
 "nbformat_minor": 2
}
