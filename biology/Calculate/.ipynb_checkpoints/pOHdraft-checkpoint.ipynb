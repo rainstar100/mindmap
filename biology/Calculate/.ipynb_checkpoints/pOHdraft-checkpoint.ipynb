{
 "cells": [
  {
   "cell_type": "code",
   "execution_count": 1,
   "id": "a026a288-a504-439e-94f3-db0cf051458d",
   "metadata": {},
   "outputs": [],
   "source": [
    "#import package\n",
    "import math\n",
    "import scipy"
   ]
  },
  {
   "cell_type": "code",
   "execution_count": 21,
   "id": "2c47aa2b-6274-4735-b588-dfdb23ab3284",
   "metadata": {},
   "outputs": [],
   "source": [
    "def EquilibriumConcentrate(pKa,HA,A):\n",
    "    '''\n",
    "    #######################################################\n",
    "    Params:\n",
    "        pKa: the dissociation equilibrium constant of [HA] in water\n",
    "        HA:  concentrate of [HA] when equilibrium\n",
    "        A:   concentrate of [A-] when equilibrium \n",
    "    \n",
    "    ###################################################### \n",
    "    Calculate the pH according as follow:\n",
    "        [HA]+[H2O]=[A-]+[H3O+]\n",
    "    when equilibrium:\n",
    "        Ka=[A-][H3O+]/[HA]\n",
    "    Derivation:\n",
    "        [H3O+]=Ka[HA]/[A-]\n",
    "        log10([H3O+])=log10(Ka)+log10([HA]/[A-])\n",
    "    Replace:\n",
    "        pka=-log10(Ka)\n",
    "        pH=-log10([H3O+])    \n",
    "    Resultes:\n",
    "        pH=pKa-log10([HA]/[A-])\n",
    "    '''\n",
    "    pH=pKa-math.log10(HA/A)\n",
    "    print('the buffer ph---->{:.2f}'.format(pH))\n",
    "    return pH"
   ]
  },
  {
   "cell_type": "code",
   "execution_count": 64,
   "id": "fadcb891-6807-4a4f-a0f2-8a8c9a133b51",
   "metadata": {},
   "outputs": [
    {
     "data": {
      "text/plain": [
       "\u001b[1;31mSignature:\u001b[0m \u001b[0mCalculate_pH\u001b[0m\u001b[1;33m(\u001b[0m\u001b[0mpKa\u001b[0m\u001b[1;33m,\u001b[0m \u001b[0mHA\u001b[0m\u001b[1;33m,\u001b[0m \u001b[0mA\u001b[0m\u001b[1;33m)\u001b[0m\u001b[1;33m\u001b[0m\u001b[1;33m\u001b[0m\u001b[0m\n",
       "\u001b[1;31mDocstring:\u001b[0m\n",
       "#######################################################\n",
       "Params:\n",
       "    pKa: the dissociation equilibrium constant of [HA] in water\n",
       "    HA:  concentrate of [HA] when equilibrium\n",
       "    A:   concentrate of [A-] when equilibrium \n",
       "\n",
       "###################################################### \n",
       "Calculate the pH according as follow:\n",
       "    [HA]+[H2O]=[A-]+[H3O+]\n",
       "when equilibrium:\n",
       "    Ka=[A-][H3O+]/[HA]\n",
       "Derivation:\n",
       "    [H3O+]=Ka[HA]/[A-]\n",
       "    log10([H3O+])=log10(Ka)+log10([HA]/[A-])\n",
       "Replace:\n",
       "    pka=-log10(Ka)\n",
       "    pH=-log10([H3O+])    \n",
       "Resultes:\n",
       "    pH=pKa-log10([HA]/[A-])\n",
       "\u001b[1;31mFile:\u001b[0m      c:\\users\\administrator\\appdata\\local\\temp\\ipykernel_9084\\2194102104.py\n",
       "\u001b[1;31mType:\u001b[0m      function"
      ]
     },
     "metadata": {},
     "output_type": "display_data"
    }
   ],
   "source": [
    "Calculate_pH?"
   ]
  },
  {
   "cell_type": "code",
   "execution_count": 65,
   "id": "a88e1bfc-68d2-4a0a-aaad-cb458e7033a8",
   "metadata": {},
   "outputs": [
    {
     "name": "stdout",
     "output_type": "stream",
     "text": [
      "the buffer ph---->9.93\n"
     ]
    },
    {
     "data": {
      "text/plain": [
       "9.927940008672037"
      ]
     },
     "execution_count": 65,
     "metadata": {},
     "output_type": "execute_result"
    }
   ],
   "source": [
    "# calculate\n",
    "Calculate_pH(10.53,0.8,0.2)"
   ]
  },
  {
   "cell_type": "code",
   "execution_count": 4,
   "id": "32aa17c1-abe1-4ebc-8387-700a34a1b610",
   "metadata": {},
   "outputs": [
    {
     "name": "stdout",
     "output_type": "stream",
     "text": [
      "[-0.0263504744007618, 0.0208550656621855]\n"
     ]
    }
   ],
   "source": [
    "from sympy import symbols, solve, sqrt\n",
    " \n",
    "# 定义符号变量\n",
    "x = symbols('x')\n",
    " \n",
    "# 方程式\n",
    "equation = x**2 - (10**-2.26)*(0.1-x)\n",
    " \n",
    "# 解方程\n",
    "solution = solve(equation, x)\n",
    " \n",
    "# 打印解\n",
    "print(solution)"
   ]
  },
  {
   "cell_type": "code",
   "execution_count": 25,
   "id": "5c4fd04d-111b-44b1-a949-2f23d5c1d1b4",
   "metadata": {},
   "outputs": [
    {
     "name": "stdout",
     "output_type": "stream",
     "text": [
      "the buffer ph---->9.93\n"
     ]
    },
    {
     "data": {
      "text/plain": [
       "9.927940008672037"
      ]
     },
     "execution_count": 25,
     "metadata": {},
     "output_type": "execute_result"
    }
   ],
   "source": [
    "EquilibriumConcentrate(10.53,0.8,0.2)"
   ]
  },
  {
   "cell_type": "code",
   "execution_count": 4,
   "id": "576bdf29-f18d-4984-83c4-0908f540d2f3",
   "metadata": {},
   "outputs": [],
   "source": [
    "def InitialConcentrate(pKb,A,approximate=True):\n",
    "    '''\n",
    "    #######################################################\n",
    "    Params:\n",
    "        pKa: the dissociation equilibrium constant of [HA] in water\n",
    "        A:  initial concentrate of [A-] \n",
    "        approximate: \n",
    "            True:[A-] of equilibrium ≈initial [A-] ,because 10**-pKb is very small,dissociate fewly\n",
    "    ###################################################### \n",
    "    Calculate the pH according as follow:\n",
    "        [A-]+[H2O]=[HA]+[OH-]\n",
    "    when equilibrium:\n",
    "        Kb=[HA][OH-]/[A-]\n",
    "    Derivation:\n",
    "        [OH-]2=Kb[A-]\n",
    "        2*log10([OH-])=log10(Kb)+log10([A-])\n",
    "        log10([OH-])=(log10(Kb)+log10([A-]))/2\n",
    "    Replace:\n",
    "        pkb=-log10(Kb)\n",
    "        pOH=-log10([OH-])    \n",
    "    Resultes:\n",
    "        pOH=(pKb-log10([A-]))/2\n",
    "    '''\n",
    "    pOH=(pKb-math.log10(A))/2\n",
    "    print('the buffer pOh approximate---->{:.2f}'.format(pOH))\n",
    "    return pOH"
   ]
  },
  {
   "cell_type": "code",
   "execution_count": 3,
   "id": "cea84308-9170-47b6-bc29-7e8bbe94e844",
   "metadata": {},
   "outputs": [
    {
     "name": "stdout",
     "output_type": "stream",
     "text": [
      "the buffer pOh approximate---->6.32\n"
     ]
    },
    {
     "ename": "NameError",
     "evalue": "name 'pH' is not defined",
     "output_type": "error",
     "traceback": [
      "\u001b[1;31m---------------------------------------------------------------------------\u001b[0m",
      "\u001b[1;31mNameError\u001b[0m                                 Traceback (most recent call last)",
      "Cell \u001b[1;32mIn[3], line 1\u001b[0m\n\u001b[1;32m----> 1\u001b[0m \u001b[43mInitialConcentrate\u001b[49m\u001b[43m(\u001b[49m\u001b[38;5;241;43m14\u001b[39;49m\u001b[38;5;241;43m-\u001b[39;49m\u001b[38;5;241;43m2.36\u001b[39;49m\u001b[43m,\u001b[49m\u001b[38;5;241;43m0.1\u001b[39;49m\u001b[43m)\u001b[49m\n",
      "Cell \u001b[1;32mIn[2], line 26\u001b[0m, in \u001b[0;36mInitialConcentrate\u001b[1;34m(pKb, A, approximate)\u001b[0m\n\u001b[0;32m     24\u001b[0m pOH\u001b[38;5;241m=\u001b[39m(pKb\u001b[38;5;241m-\u001b[39mmath\u001b[38;5;241m.\u001b[39mlog10(A))\u001b[38;5;241m/\u001b[39m\u001b[38;5;241m2\u001b[39m\n\u001b[0;32m     25\u001b[0m \u001b[38;5;28mprint\u001b[39m(\u001b[38;5;124m'\u001b[39m\u001b[38;5;124mthe buffer pOh approximate---->\u001b[39m\u001b[38;5;132;01m{:.2f}\u001b[39;00m\u001b[38;5;124m'\u001b[39m\u001b[38;5;241m.\u001b[39mformat(pOH))\n\u001b[1;32m---> 26\u001b[0m \u001b[38;5;28;01mreturn\u001b[39;00m \u001b[43mpH\u001b[49m\n",
      "\u001b[1;31mNameError\u001b[0m: name 'pH' is not defined"
     ]
    }
   ],
   "source": [
    "InitialConcentrate(14-2.36,0.1)"
   ]
  },
  {
   "cell_type": "code",
   "execution_count": null,
   "id": "b48f2c5f-f8ac-48fc-8e48-9b8211656349",
   "metadata": {},
   "outputs": [],
   "source": []
  }
 ],
 "metadata": {
  "kernelspec": {
   "display_name": "Python 3 (ipykernel)",
   "language": "python",
   "name": "python3"
  },
  "language_info": {
   "codemirror_mode": {
    "name": "ipython",
    "version": 3
   },
   "file_extension": ".py",
   "mimetype": "text/x-python",
   "name": "python",
   "nbconvert_exporter": "python",
   "pygments_lexer": "ipython3",
   "version": "3.12.5"
  }
 },
 "nbformat": 4,
 "nbformat_minor": 5
}
