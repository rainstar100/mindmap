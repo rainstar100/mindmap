{
 "cells": [
  {
   "cell_type": "code",
   "execution_count": 1,
   "id": "a6c6c00d-b6e2-49a6-b275-c58144c700ff",
   "metadata": {},
   "outputs": [],
   "source": [
    "\n",
    "import pH\n"
   ]
  },
  {
   "cell_type": "code",
   "execution_count": 2,
   "id": "5e6d9de7-b2a3-4282-ae4b-27da7bae5808",
   "metadata": {},
   "outputs": [
    {
     "name": "stdout",
     "output_type": "stream",
     "text": [
      "the buffer ph---->9.93\n"
     ]
    },
    {
     "data": {
      "text/plain": [
       "9.927940008672037"
      ]
     },
     "execution_count": 2,
     "metadata": {},
     "output_type": "execute_result"
    }
   ],
   "source": [
    "#计算赖氨酸残基20%解离时候的ph\n",
    "pH.EquilibriumConcentrate(10.53,0.8,0.2)"
   ]
  },
  {
   "cell_type": "code",
   "execution_count": 3,
   "id": "3b76eb0e-1b6f-40d9-8ae7-abe678ce1a47",
   "metadata": {},
   "outputs": [
    {
     "name": "stdout",
     "output_type": "stream",
     "text": [
      "the buffer ph---->4.55\n"
     ]
    },
    {
     "data": {
      "text/plain": [
       "4.551029995663981"
      ]
     },
     "execution_count": 3,
     "metadata": {},
     "output_type": "execute_result"
    }
   ],
   "source": [
    "#计算谷氨酸残基三分之二解离时候的ph\n",
    "pH.EquilibriumConcentrate(4.25,1,2)"
   ]
  },
  {
   "cell_type": "code",
   "execution_count": 4,
   "id": "d368ae06-d7ba-4ffe-9f14-fd8e47f6ab79",
   "metadata": {},
   "outputs": [
    {
     "name": "stdout",
     "output_type": "stream",
     "text": [
      "the buffer ph approximate---->1.68\n"
     ]
    },
    {
     "data": {
      "text/plain": [
       "1.68"
      ]
     },
     "execution_count": 4,
     "metadata": {},
     "output_type": "execute_result"
    }
   ],
   "source": [
    "#0.1M leuHCL 溶液PH\n",
    "pH.InitialConcentrate(2.36,0.1)"
   ]
  },
  {
   "cell_type": "code",
   "execution_count": null,
   "id": "b49e8cd7-e321-4b9b-8635-57c8c3b9a4fe",
   "metadata": {},
   "outputs": [],
   "source": []
  }
 ],
 "metadata": {
  "kernelspec": {
   "display_name": "Python 3 (ipykernel)",
   "language": "python",
   "name": "python3"
  },
  "language_info": {
   "codemirror_mode": {
    "name": "ipython",
    "version": 3
   },
   "file_extension": ".py",
   "mimetype": "text/x-python",
   "name": "python",
   "nbconvert_exporter": "python",
   "pygments_lexer": "ipython3",
   "version": "3.12.5"
  }
 },
 "nbformat": 4,
 "nbformat_minor": 5
}
