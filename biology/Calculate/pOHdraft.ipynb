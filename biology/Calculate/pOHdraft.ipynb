{
 "cells": [
  {
   "cell_type": "code",
   "execution_count": 1,
   "id": "a026a288-a504-439e-94f3-db0cf051458d",
   "metadata": {},
   "outputs": [],
   "source": [
    "#import package\n",
    "import math\n",
    "import scipy"
   ]
  },
  {
   "cell_type": "code",
   "execution_count": 21,
   "id": "2c47aa2b-6274-4735-b588-dfdb23ab3284",
   "metadata": {},
   "outputs": [],
   "source": [
    "def EquilibriumConcentrate(pKa,HA,A):\n",
    "    '''\n",
    "    #######################################################\n",
    "    Params:\n",
    "        pKa: the dissociation equilibrium constant of [HA] in water\n",
    "        HA:  concentrate of [HA] when equilibrium\n",
    "        A:   concentrate of [A-] when equilibrium \n",
    "    \n",
    "    ###################################################### \n",
    "    Calculate the pH according as follow:\n",
    "        [HA]+[H2O]=[A-]+[H3O+]\n",
    "    when equilibrium:\n",
    "        Ka=[A-][H3O+]/[HA]\n",
    "    Derivation:\n",
    "        [H3O+]=Ka[HA]/[A-]\n",
    "        log10([H3O+])=log10(Ka)+log10([HA]/[A-])\n",
    "    Replace:\n",
    "        pka=-log10(Ka)\n",
    "        pH=-log10([H3O+])    \n",
    "    Resultes:\n",
    "        pH=pKa-log10([HA]/[A-])\n",
    "    '''\n",
    "    pH=pKa-math.log10(HA/A)\n",
    "    print('the buffer ph---->{:.2f}'.format(pH))\n",
    "    return pH"
   ]
  },
  {
   "cell_type": "code",
   "execution_count": 64,
   "id": "fadcb891-6807-4a4f-a0f2-8a8c9a133b51",
   "metadata": {},
   "outputs": [
    {
     "data": {
      "text/plain": [
       "\u001b[1;31mSignature:\u001b[0m \u001b[0mCalculate_pH\u001b[0m\u001b[1;33m(\u001b[0m\u001b[0mpKa\u001b[0m\u001b[1;33m,\u001b[0m \u001b[0mHA\u001b[0m\u001b[1;33m,\u001b[0m \u001b[0mA\u001b[0m\u001b[1;33m)\u001b[0m\u001b[1;33m\u001b[0m\u001b[1;33m\u001b[0m\u001b[0m\n",
       "\u001b[1;31mDocstring:\u001b[0m\n",
       "#######################################################\n",
       "Params:\n",
       "    pKa: the dissociation equilibrium constant of [HA] in water\n",
       "    HA:  concentrate of [HA] when equilibrium\n",
       "    A:   concentrate of [A-] when equilibrium \n",
       "\n",
       "###################################################### \n",
       "Calculate the pH according as follow:\n",
       "    [HA]+[H2O]=[A-]+[H3O+]\n",
       "when equilibrium:\n",
       "    Ka=[A-][H3O+]/[HA]\n",
       "Derivation:\n",
       "    [H3O+]=Ka[HA]/[A-]\n",
       "    log10([H3O+])=log10(Ka)+log10([HA]/[A-])\n",
       "Replace:\n",
       "    pka=-log10(Ka)\n",
       "    pH=-log10([H3O+])    \n",
       "Resultes:\n",
       "    pH=pKa-log10([HA]/[A-])\n",
       "\u001b[1;31mFile:\u001b[0m      c:\\users\\administrator\\appdata\\local\\temp\\ipykernel_9084\\2194102104.py\n",
       "\u001b[1;31mType:\u001b[0m      function"
      ]
     },
     "metadata": {},
     "output_type": "display_data"
    }
   ],
   "source": [
    "Calculate_pH?"
   ]
  },
  {
   "cell_type": "code",
   "execution_count": 65,
   "id": "a88e1bfc-68d2-4a0a-aaad-cb458e7033a8",
   "metadata": {},
   "outputs": [
    {
     "name": "stdout",
     "output_type": "stream",
     "text": [
      "the buffer ph---->9.93\n"
     ]
    },
    {
     "data": {
      "text/plain": [
       "9.927940008672037"
      ]
     },
     "execution_count": 65,
     "metadata": {},
     "output_type": "execute_result"
    }
   ],
   "source": [
    "# calculate\n",
    "Calculate_pH(10.53,0.8,0.2)"
   ]
  },
  {
   "cell_type": "code",
   "execution_count": 4,
   "id": "32aa17c1-abe1-4ebc-8387-700a34a1b610",
   "metadata": {},
   "outputs": [
    {
     "name": "stdout",
     "output_type": "stream",
     "text": [
      "[-0.0263504744007618, 0.0208550656621855]\n"
     ]
    }
   ],
   "source": [
    "from sympy import symbols, solve, sqrt\n",
    " \n",
    "# 定义符号变量\n",
    "x = symbols('x')\n",
    " \n",
    "# 方程式\n",
    "equation = x**2 - (10**-2.26)*(0.1-x)\n",
    " \n",
    "# 解方程\n",
    "solution = solve(equation, x)\n",
    " \n",
    "# 打印解\n",
    "print(solution)"
   ]
  },
  {
   "cell_type": "code",
   "execution_count": 25,
   "id": "5c4fd04d-111b-44b1-a949-2f23d5c1d1b4",
   "metadata": {},
   "outputs": [
    {
     "name": "stdout",
     "output_type": "stream",
     "text": [
      "the buffer ph---->9.93\n"
     ]
    },
    {
     "data": {
      "text/plain": [
       "9.927940008672037"
      ]
     },
     "execution_count": 25,
     "metadata": {},
     "output_type": "execute_result"
    }
   ],
   "source": [
    "EquilibriumConcentrate(10.53,0.8,0.2)"
   ]
  },
  {
   "cell_type": "code",
   "execution_count": 4,
   "id": "576bdf29-f18d-4984-83c4-0908f540d2f3",
   "metadata": {},
   "outputs": [],
   "source": [
    "def InitialConcentrate(pKb,A,approximate=True):\n",
    "    '''\n",
    "    #######################################################\n",
    "    Params:\n",
    "        pKa: the dissociation equilibrium constant of [HA] in water\n",
    "        A:  initial concentrate of [A-] \n",
    "        approximate: \n",
    "            True:[A-] of equilibrium ≈initial [A-] ,because 10**-pKb is very small,dissociate fewly\n",
    "    ###################################################### \n",
    "    Calculate the pH according as follow:\n",
    "        [A-]+[H2O]=[HA]+[OH-]\n",
    "    when equilibrium:\n",
    "        Kb=[HA][OH-]/[A-]\n",
    "    Derivation:\n",
    "        [OH-]2=Kb[A-]\n",
    "        2*log10([OH-])=log10(Kb)+log10([A-])\n",
    "        log10([OH-])=(log10(Kb)+log10([A-]))/2\n",
    "    Replace:\n",
    "        pkb=-log10(Kb)\n",
    "        pOH=-log10([OH-])    \n",
    "    Resultes:\n",
    "        pOH=(pKb-log10([A-]))/2\n",
    "    '''\n",
    "    pOH=(pKb-math.log10(A))/2\n",
    "    print('the buffer pOh approximate---->{:.2f}'.format(pOH))\n",
    "    return pOH"
   ]
  },
  {
   "cell_type": "code",
   "execution_count": 7,
   "id": "cea84308-9170-47b6-bc29-7e8bbe94e844",
   "metadata": {},
   "outputs": [
    {
     "name": "stdout",
     "output_type": "stream",
     "text": [
      "the buffer pOh approximate---->2.70\n"
     ]
    },
    {
     "data": {
      "text/plain": [
       "11.3"
      ]
     },
     "execution_count": 7,
     "metadata": {},
     "output_type": "execute_result"
    }
   ],
   "source": [
    "14-InitialConcentrate(14-9.6,0.1)"
   ]
  },
  {
   "cell_type": "code",
   "execution_count": null,
   "id": "b48f2c5f-f8ac-48fc-8e48-9b8211656349",
   "metadata": {},
   "outputs": [],
   "source": []
  }
 ],
 "metadata": {
  "kernelspec": {
   "display_name": "Python 3 (ipykernel)",
   "language": "python",
   "name": "python3"
  },
  "language_info": {
   "codemirror_mode": {
    "name": "ipython",
    "version": 3
   },
   "file_extension": ".py",
   "mimetype": "text/x-python",
   "name": "python",
   "nbconvert_exporter": "python",
   "pygments_lexer": "ipython3",
   "version": "3.12.5"
  }
 },
 "nbformat": 4,
 "nbformat_minor": 5
}
