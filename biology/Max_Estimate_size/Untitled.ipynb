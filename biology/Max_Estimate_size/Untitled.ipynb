{
 "cells": [
  {
   "cell_type": "code",
   "execution_count": 24,
   "id": "8e5f7c30-4085-41f7-9224-7db71c6632e4",
   "metadata": {},
   "outputs": [
    {
     "name": "stdout",
     "output_type": "stream",
     "text": [
      "the max estimated size --- 79 ANG\n"
     ]
    }
   ],
   "source": [
    "from pymol import cmd\n",
    "import pandas as pd \n",
    "cmd.load('test.pdb','test')\n",
    "xyz=cmd.get_extent()\n",
    "df=pd.DataFrame(xyz,columns=['x','y','z'])\n",
    "size=(df.max()-df.min()).max()\n",
    "print('the max estimated size --- {:.0f} ANG'.format(size))"
   ]
  },
  {
   "cell_type": "code",
   "execution_count": null,
   "id": "26a1aba4-a861-4662-bae4-8d8f205dd1b5",
   "metadata": {},
   "outputs": [],
   "source": []
  },
  {
   "cell_type": "code",
   "execution_count": null,
   "id": "92eda234-0506-4347-871a-da175bea272b",
   "metadata": {},
   "outputs": [],
   "source": []
  }
 ],
 "metadata": {
  "kernelspec": {
   "display_name": "Python 3 (ipykernel)",
   "language": "python",
   "name": "python3"
  },
  "language_info": {
   "codemirror_mode": {
    "name": "ipython",
    "version": 3
   },
   "file_extension": ".py",
   "mimetype": "text/x-python",
   "name": "python",
   "nbconvert_exporter": "python",
   "pygments_lexer": "ipython3",
   "version": "3.10.14"
  }
 },
 "nbformat": 4,
 "nbformat_minor": 5
}
