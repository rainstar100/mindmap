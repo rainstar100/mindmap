{
 "cells": [
  {
   "cell_type": "code",
   "execution_count": 93,
   "id": "7afe14b8-39e8-4aa7-9359-8414e7123319",
   "metadata": {},
   "outputs": [
    {
     "name": "stdout",
     "output_type": "stream",
     "text": [
      "the max estimated size --- 79 ANG\n"
     ]
    }
   ],
   "source": [
    "from Bio.PDB import PDBParser\n",
    "import pandas as pd\n",
    "\n",
    "# parser pdb\n",
    "parser=PDBParser()\n",
    "struc=parser.get_structure(id=\"1\",file=\"test.pdb\")\n",
    "\n",
    "#get xyz of atom\n",
    "atoms=struc.get_atoms()\n",
    "coords=[]\n",
    "for atom in atoms:\n",
    "    coords.append(atom.get_coord())\n",
    "    \n",
    "# calculate \n",
    "df=pd.DataFrame(coords,columns=['x','y','z'])\n",
    "size=(df.max()-df.min()).max()\n",
    "print('the max estimated size --- {:.0f} ANG'.format(size))"
   ]
  },
  {
   "cell_type": "code",
   "execution_count": null,
   "id": "f9c047ff-ced1-4faf-a875-39991d44e7a7",
   "metadata": {},
   "outputs": [],
   "source": []
  }
 ],
 "metadata": {
  "kernelspec": {
   "display_name": "Python 3 (ipykernel)",
   "language": "python",
   "name": "python3"
  },
  "language_info": {
   "codemirror_mode": {
    "name": "ipython",
    "version": 3
   },
   "file_extension": ".py",
   "mimetype": "text/x-python",
   "name": "python",
   "nbconvert_exporter": "python",
   "pygments_lexer": "ipython3",
   "version": "3.10.14"
  }
 },
 "nbformat": 4,
 "nbformat_minor": 5
}
