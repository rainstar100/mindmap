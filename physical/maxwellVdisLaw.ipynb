{
 "cells": [
  {
   "cell_type": "markdown",
   "id": "bd45c119",
   "metadata": {},
   "source": [
    "# Maxwell velocity distribution law\n",
    "## Based on $\\mu$（$ \\sqrt{3\\frac{\\sum_{1}^In_iV_i^2}{N}} =\\sqrt{\\frac{3k_BT}{m}} $）\n",
    "- have the conclusion as follow:\n",
    "    - when T is constant， the $\\mu$ is constant\n",
    "    - when the $\\mu$ is constant, the $\\frac{\\sum_{1}^In_iV_i^2}{N}$ is constant\n",
    "        - of course ,we dont know how many the special velocity there are, but it must be in the whole velocity space，so $v_i$ is constant\n",
    "        \n",
    "- the $\\frac{n_i}{N}$ is constant corresponding to $V_i$ ,on the other hand the velocity distribution is constant ,while the T is constant\n",
    "- 3dimention"
   ]
  },
  {
   "cell_type": "markdown",
   "id": "dd2b91bb",
   "metadata": {},
   "source": [
    "## how to discript the velocity distrubiton \n",
    "\n",
    "- as known the correspond relationshipd between $\\frac{n_i}{N}$ and $V_i (V_i \\longrightarrow \\frac{n_i}{N}) $ , the mapping should be used \n",
    "\n",
    "- $f:V \\longrightarrow \\frac{n}{N}\\longrightarrow \\% $ \n",
    "        - vector to real number ,how to handle\n",
    "        - functional\n",
    "        - vector decompose ,decompose vector to the real number of the different direction\n",
    "        - linear trasformation\n",
    "        - vector function ,think of real number as vector\n",
    "        - #####the function is wrong ,can't be used######\n",
    "        - #####this is a frequency function ,shit########\n",
    "- $f:$\n",
    "    $\\begin{equation}\n",
    "        \\begin{bmatrix}\n",
    "            V_x \\\\ V_y \\\\ V_z\n",
    "        \\end{bmatrix}\n",
    "    \\end{equation}$ \n",
    "    $\\longrightarrow$\n",
    "    $\\begin{equation}\n",
    "        \\begin{bmatrix} \n",
    "            \\frac{n_x}{N} \\\\ \\frac{n_y}{N} \\\\ \\frac{n_z}{N} \n",
    "        \\end{bmatrix}\n",
    "    \\end{equation}$\n",
    "    $\\longrightarrow$\n",
    "    $\\begin{equation}\n",
    "        \\begin{bmatrix} \n",
    "            \\%_x \\\\ \\%_y \\\\ \\%_z \n",
    "        \\end{bmatrix}\n",
    "    \\end{equation}$\n",
    "- $\\%_x=f(v_x)$\n",
    "- $\\%_y=f(v_y)$\n",
    "- $\\%_z=f(v_z)$\n",
    "<!-- - $\\rho_{V_x,V_y,V_z}=f(v_x)f(v_y)f(v_z)=\\rho_V$ NOT CONSTANT -->\n",
    "- $\\%_V=\\%_{V_x,V_y,V_z}=f(v_x)f(v_y)f(v_z)$ \n",
    "    - consider from probability the ratio of the speed V\n",
    "<!-- - $\\rho_{dv}=\\int\\int\\int f(v_x)dxf(v_y)dyf(v_z)dz=C$ -->\n",
    "- $\\%N_{dv}=f(v_x)dv_xf(v_y)dv_yf(v_z)dv_z*N$\n",
    "- $\\rho_v=f(v_x)f(v_y)f(v_z)*N$\n",
    "<!--- $\\%_{dv}=f(v_x)dv_xf(v_y)dv_yf(v_z)dv_z=N/V_{volume}=C$\n",
    "    - consider the ratio of dv Volume -->\n",
    "- finanlly discript  $$ f(v_x)f(v_y)f(v_z) $$ \n",
    "\n",
    "###################### shit wrong ##################################################"
   ]
  },
  {
   "cell_type": "markdown",
   "id": "05a08e98",
   "metadata": {},
   "source": [
    "## How to discript the velocity distribution\n",
    "- The distribution fuction\n",
    "- The Probability density fuction"
   ]
  },
  {
   "cell_type": "markdown",
   "id": "67240c74",
   "metadata": {},
   "source": [
    "### The distribution fuction\n",
    "- $P=F(V)$\n",
    "    - $F(-2):P(V<=-2)$\n",
    "    - $F(2):P(V<=2)$\n",
    "    - $F(2)-F(-2):P(-2<=V<=2)$"
   ]
  },
  {
   "cell_type": "markdown",
   "id": "8547b7ca",
   "metadata": {},
   "source": [
    "### The Probability density fuction\n",
    "$$\\lim_{dv \\to 0}\\frac{dn}{dvN}=f(v)$$\n",
    "$$\\frac{dn}{N}=f(v)dv$$\n",
    "$$\\frac{dn}{N}=f(v_x,v_y,v_z)dv_xdv_ydv_z$$\n",
    "$$f(v)=f(v_x,v_y,v_z)=f(v_x)f(v_y)f(v_z)$$\n",
    "$$fv_x(v)=f'(v_x)f(v_y)f(v_z)$$"
   ]
  },
  {
   "cell_type": "markdown",
   "id": "bac5f2cf",
   "metadata": {},
   "source": [
    "$$v^2=v_x^2+v_y^2+v_z^2$$\n",
    "$$$f(v)=f(\\sqrt{v^2})=f(\\sqrt{v_x^2+v_y^2+v_z^2})$$\n",
    "$$f_{v_x}(v)=f'(v)*\\frac{1}{2}v^{2*\\frac{-1}{2}}*2v_x=f'(v)\\frac{v_x}{v}$$\n",
    "$$f'(v_x)f(v_y)f(v_z)=f_{v_x}(v)=f'(v)\\frac{v_x}{v}$$\n",
    "$$f'(v_x)\\frac{f(v)}{f(v_x)}=f'(v)\\frac{v_x}{v}$$\n",
    "\n",
    "\n",
    "- note:\n",
    "    - $f_{v_x}(v)\\neq f(v_x)$"
   ]
  },
  {
   "cell_type": "markdown",
   "id": "5ebc66bd",
   "metadata": {},
   "source": [
    "$$\\frac{f'(v_x)}{f(v_x)v_x}=\\frac{f'(v)}{f(v)v}$$\n",
    "\n",
    "$$\\frac{f'(v_y)}{f(v_y)v_y}=\\frac{f'(v)}{f(v)v}$$\n",
    "\n",
    "$$\\frac{f'(v_z)}{f(v_z)v_z}=\\frac{f'(v)}{f(v)v}$$\n",
    "\n",
    "$$\\frac{f'(v_x)}{f(v_x)v_x}=\\frac{f'(v_y)}{f(v_y)v_y}=\\frac{f'(v_y)}{f(v_y)v_y}=-\\lambda$$"
   ]
  },
  {
   "cell_type": "markdown",
   "id": "42883523",
   "metadata": {},
   "source": [
    "$$\\frac{df(v_x)}{f(v_x)v_xd(v_x)}=-\\lambda $$\n",
    "\n",
    "$$\\frac{df(v_x)}{f(v_x)}=-\\lambda v_xd(v_x) $$\n",
    "\n",
    "$$ lnf(v_x)=-\\frac{\\lambda}{2}v_x^2+\\alpha$$\n",
    "\n",
    "$$ f(v_x)=\\alpha exp(-\\frac{\\lambda}{2}v_x^2)$$\n",
    "\n",
    "$$ f(v_y)=\\alpha exp(-\\frac{\\lambda}{2}v_y^2)$$\n",
    "\n",
    "$$ f(v_z)=\\alpha exp(-\\frac{\\lambda}{2}v_z^2)$$"
   ]
  },
  {
   "cell_type": "markdown",
   "id": "5a699ba4",
   "metadata": {},
   "source": [
    "$$\n",
    "    \\begin{aligned}\n",
    "        f(v)&=f(v_x,v_y,v_z) \\\\\n",
    "          &=f(v_x)f(v_y)f(v_z) \\\\\n",
    "          &=\\alpha^3*exp(-\\frac{\\lambda}{2}v_x^2)*exp(-\\frac{\\lambda}{2}v_y^2)*exp(-\\frac{\\lambda}{2}v_z^2) \\\\\n",
    "          &=\\alpha^3exp(-\\frac{\\lambda}{2}(v_x^2+v_y^2+v_z^2)) \\\\\n",
    "          &=\\alpha^3exp(-\\frac{\\lambda}{2}v^2) \\\\\n",
    "          &=\\alpha3exp(-\\beta^2v^2)\n",
    "    \\end{aligned}\n",
    "$$\n",
    "- note:\n",
    "    - $\\frac{\\lambda}{2}=\\beta^2$\n"
   ]
  },
  {
   "cell_type": "markdown",
   "id": "7827bcc0",
   "metadata": {},
   "source": [
    "$$\n",
    "    \\begin{aligned}\n",
    "        \\int f_{v_x}(v)dv_x&= \\alpha\\int exp(-\\beta^2v^2)dv \\\\\n",
    "                &=\\frac{\\alpha}{\\beta}\\int exp(-\\beta v^2)d\\beta v \\\\\n",
    "                &=\\frac{\\alpha}{\\beta}*\\sqrt{\\pi} \\\\\n",
    "                &=1 \\\\       \n",
    "    \\end{aligned}\n",
    "$$\n",
    "$\n",
    "     a=\\frac{\\beta}{\\sqrt{\\pi}}\n",
    "$"
   ]
  },
  {
   "cell_type": "markdown",
   "id": "256e48dd",
   "metadata": {},
   "source": [
    "$$ f_{v_x}(v)=\\frac{\\beta}{\\sqrt{\\pi}}exp(-\\beta^2 v_x^2) $$"
   ]
  },
  {
   "cell_type": "markdown",
   "id": "55dcaabb",
   "metadata": {},
   "source": [
    "$$ \n",
    "    \\begin{aligned}\n",
    "        \\overline {v_x^2}&=\\int f_{v_x}(v_x)dv_xv_x^2 \\\\\n",
    "            &=\\int \\frac{\\beta}{\\sqrt{\\pi}}exp(-\\beta^2 v_x^2)dv_xv_x^2 \\\\ \n",
    "            &=\\frac{\\beta}{\\sqrt{\\pi}}\\int exp(-\\beta^2 v_x^2)dv_xv_x^2 \\\\\n",
    "            &=\\frac{\\beta}{\\sqrt{\\pi}}\\frac{1}{2}\\sqrt{\\frac{\\pi}{\\beta^6}}\\\\\n",
    "            &=\\frac{1}{2\\beta^2} \\\\  \n",
    "            &=\\frac{k_BT}{m}\n",
    "    \\end{aligned}\n",
    "$$\n",
    "- note:\n",
    "    - 3 dimentions\n",
    "- $\\beta^2=\\frac{m}{2k_BT}$\n",
    "- $\\alpha=\\sqrt{\\frac{m}{2\\pi k_BT}}$"
   ]
  },
  {
   "cell_type": "markdown",
   "id": "645b7d2d",
   "metadata": {},
   "source": [
    "$$ \n",
    "    \\begin{aligned}\n",
    "        \\overline {v_x^2}&=\\int f_{v_x}(v_x)dv_xv_x^2 \\\\\n",
    "            &=\\int \\frac{\\beta}{\\sqrt{\\pi}}exp(-\\beta^2 v_x^2)dv_xv_x^2 \\\\ \n",
    "            &=\\frac{\\beta}{\\sqrt{\\pi}}\\int exp(-\\beta^2 v_x^2)dv_xv_x^2 \\\\\n",
    "            &=\\frac{\\beta}{\\sqrt{\\pi}}\\frac{1}{2}\\sqrt{\\frac{\\pi}{\\beta^6}}\\\\\n",
    "            &=\\frac{1}{2\\beta^2} \\\\  \n",
    "            &=\\frac{k_BT}{m}\n",
    "    \\end{aligned}\n",
    "$$\n",
    "- note:\n",
    "    - 3 dimentions\n",
    "- $\\beta^2=\\frac{m}{2k_BT}$\n",
    "- $\\alpha=\\sqrt{\\frac{m}{2\\pi k_BT}}$"
   ]
  },
  {
   "cell_type": "markdown",
   "id": "36082d22",
   "metadata": {},
   "source": [
    "$$ f(v)=\\frac{m}{2\\pi k_BT}^{\\frac{3}{2}}exp(-\\frac{m}{2k_BT}v^2) $$"
   ]
  },
  {
   "cell_type": "code",
   "execution_count": null,
   "id": "d076cedd",
   "metadata": {},
   "outputs": [],
   "source": []
  }
 ],
 "metadata": {
  "kernelspec": {
   "display_name": "Python 3 (ipykernel)",
   "language": "python",
   "name": "python3"
  },
  "language_info": {
   "codemirror_mode": {
    "name": "ipython",
    "version": 3
   },
   "file_extension": ".py",
   "mimetype": "text/x-python",
   "name": "python",
   "nbconvert_exporter": "python",
   "pygments_lexer": "ipython3",
   "version": "3.9.12"
  }
 },
 "nbformat": 4,
 "nbformat_minor": 5
}
