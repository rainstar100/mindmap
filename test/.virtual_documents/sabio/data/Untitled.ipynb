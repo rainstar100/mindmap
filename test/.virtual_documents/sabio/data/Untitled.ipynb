import pandas as pd


df=pd.read_json('Kcat_combination_0918.json')


df.shape


duplicate=df[df.duplicated(subset=['Substrate','Sequence'],keep=False)] 


duplicate.sort_values(by='Sequence')



