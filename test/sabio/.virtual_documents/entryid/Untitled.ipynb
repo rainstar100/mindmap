import requests

ENTRYID_QUERY_URL = 'http://sabiork.h-its.org/sabioRestWebServices/searchKineticLaws/entryIDs'


# ask SABIO-RK for all EntryIDs matching a query

query_dict = {"Substrate":"*"}
query_string = ' AND '.join(['%s:%s' % (k,v) for k,v in query_dict.items()])
query = {'format':'txt', 'q':query_string}


request = requests.get(ENTRYID_QUERY_URL, params = query)
request.raise_for_status() # raise if 404 error


# each entry is reported on a new line

entryIDs = [int(x) for x in request.text.strip().split('\n')]
print('%d matching entries found.' % len(entryIDs))


# encode next request, for parameter data given entry IDs

#query = {'entryIDs[]':entryIDs[0], 'format':'tsv', 'fields[]':['EntryID','ReactomeReactionID', 'Organism', 'UniprotID','ECNumber', 'Parameter']}

query = {'entryIDs[]':entryIDs[0], 'format':'tsv','fields[]':['EntryID','Substrate','Cofactor','Product','ECNumber','UniprotID','Parameter','Temperature','pH','Buffer']}



# make POST request
PARAM_QUERY_URL = 'http://sabiork.h-its.org/entry/exportToExcelCustomizable'
request = requests.post(PARAM_QUERY_URL, params=query)
request.raise_for_status()


# results

print(request.text)



