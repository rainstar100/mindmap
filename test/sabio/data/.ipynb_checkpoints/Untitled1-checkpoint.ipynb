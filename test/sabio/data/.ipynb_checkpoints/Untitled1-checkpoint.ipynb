{
 "cells": [
  {
   "cell_type": "code",
   "execution_count": 1,
   "id": "3f63b637-8261-4154-9d55-97eab19bddbe",
   "metadata": {},
   "outputs": [],
   "source": [
    "import pandas as pd"
   ]
  },
  {
   "cell_type": "code",
   "execution_count": 15,
   "id": "d825cd7b-a6f9-4b96-b3a4-691e646dbdd3",
   "metadata": {},
   "outputs": [
    {
     "name": "stderr",
     "output_type": "stream",
     "text": [
      "C:\\Users\\Administrator\\AppData\\Local\\Temp\\ipykernel_7808\\3222212521.py:2: DtypeWarning: Columns (14) have mixed types. Specify dtype option on import or set low_memory=False.\n",
      "  df=pd.read_csv('sabio_combine_csv.csv',encoding='utf-8')\n"
     ]
    }
   ],
   "source": [
    "#import data\n",
    "df=pd.read_csv('sabio_combine_csv.csv',encoding='utf-8')"
   ]
  },
  {
   "cell_type": "code",
   "execution_count": 22,
   "id": "76387590-ec42-4650-aaaf-5c03baa99f54",
   "metadata": {},
   "outputs": [
    {
     "data": {
      "text/plain": [
       "Index(['EntryID', 'Substrate', 'EnzymeType', 'PubMedID', 'Organism',\n",
       "       'UniprotID', 'ECNumber', 'parameter.type',\n",
       "       'parameter.associatedSpecies', 'parameter.startValue',\n",
       "       'parameter.endValue', 'parameter.standardDeviation', 'parameter.unit',\n",
       "       '<!DOCTYPE HTML PUBLIC \"-//IETF//DTD HTML 2.0//EN\">', '{'],\n",
       "      dtype='object')"
      ]
     },
     "execution_count": 22,
     "metadata": {},
     "output_type": "execute_result"
    }
   ],
   "source": [
    "df.columns"
   ]
  },
  {
   "cell_type": "code",
   "execution_count": 88,
   "id": "26b041e7-03f2-414a-a332-8aa328873bfb",
   "metadata": {},
   "outputs": [
    {
     "name": "stdout",
     "output_type": "stream",
     "text": [
      "(314212, 10)\n"
     ]
    }
   ],
   "source": [
    "#del uninterested columns\n",
    "df_drop=df.drop(columns=['PubMedID','{','<!DOCTYPE HTML PUBLIC \"-//IETF//DTD HTML 2.0//EN\">','parameter.standardDeviation','parameter.endValue'])\n",
    "df_drop.columns\n",
    "print(df_drop.shape)"
   ]
  },
  {
   "cell_type": "code",
   "execution_count": 104,
   "id": "f06b17d6-4297-4a10-abb6-d84eab6e309c",
   "metadata": {},
   "outputs": [
    {
     "name": "stdout",
     "output_type": "stream",
     "text": [
      "(27315, 10)\n",
      "parameter.type\n",
      "kcat    27315\n",
      "Name: count, dtype: int64\n"
     ]
    }
   ],
   "source": [
    "#query interested data\n",
    "kcat_query=(df_drop['parameter.type']=='kcat')\n",
    "kcat=df_drop[kcat_query]\n",
    "print(kcat.shape)\n",
    "print(kcat['parameter.type'].value_counts())"
   ]
  },
  {
   "cell_type": "code",
   "execution_count": 27,
   "id": "8d1c038a-ab43-4839-bc62-b9dc349e5a60",
   "metadata": {},
   "outputs": [],
   "source": [
    "#observe data distribution of every column\n",
    "#df['column'].value_counts\n",
    "#generate the requirement of clean"
   ]
  },
  {
   "cell_type": "code",
   "execution_count": 106,
   "id": "20581128-25f8-4aaa-8e9e-5938ae7fea84",
   "metadata": {},
   "outputs": [
    {
     "name": "stderr",
     "output_type": "stream",
     "text": [
      "C:\\Users\\Administrator\\AppData\\Local\\Temp\\ipykernel_7808\\2953537367.py:5: UserWarning: Boolean Series key will be reindexed to match DataFrame index.\n",
      "  kcat_cleaned=kcat[clean_unit&clean_UniprotID&clean_startValue]\n"
     ]
    },
    {
     "name": "stdout",
     "output_type": "stream",
     "text": [
      "(22238, 10)\n",
      "(22238, 15)\n"
     ]
    }
   ],
   "source": [
    "#clean dataset\n",
    "clean_unit=(df_drop['parameter.unit']=='s^(-1)')\n",
    "clean_UniprotID=(df_drop['UniprotID'].notna())&(df['UniprotID'].str.len()==6)\n",
    "clean_startValue=(df_drop['parameter.startValue'].notna())\n",
    "kcat_cleaned=kcat[clean_unit&clean_UniprotID&clean_startValue]\n",
    "print(kcat_cleaned.shape)\n",
    "#print(kcat_cleaned.info())\n",
    "\n"
   ]
  },
  {
   "cell_type": "code",
   "execution_count": 99,
   "id": "748a83aa-d6b9-4864-87b5-b13a783436ed",
   "metadata": {},
   "outputs": [
    {
     "name": "stdout",
     "output_type": "stream",
     "text": [
      "(54009, 10)\n",
      "(45933, 10)\n"
     ]
    }
   ],
   "source": [
    "km_query=(df['parameter.type']=='Km')\n",
    "km=df_drop[km_query]\n",
    "print(km.shape)\n",
    "duplicated_row=km.duplicated(subset=['EntryID',],keep=False)\n",
    "km=km[~duplicated_row]\n",
    "print(km.shape)"
   ]
  },
  {
   "cell_type": "code",
   "execution_count": 112,
   "id": "2ecf5d4e-dfbd-42de-9220-1f96f1fdab99",
   "metadata": {},
   "outputs": [
    {
     "name": "stdout",
     "output_type": "stream",
     "text": [
      "(19559, 11)\n"
     ]
    },
    {
     "data": {
      "text/plain": [
       "Index(['EntryID', 'Substrate', 'EnzymeType', 'Organism', 'UniprotID',\n",
       "       'ECNumber', 'parameter.type', 'parameter.associatedSpecies_x',\n",
       "       'parameter.startValue', 'parameter.unit',\n",
       "       'parameter.associatedSpecies_y'],\n",
       "      dtype='object')"
      ]
     },
     "execution_count": 112,
     "metadata": {},
     "output_type": "execute_result"
    }
   ],
   "source": [
    "#merge\n",
    "merge_df=pd.merge(kcat_cleaned,km[['EntryID','parameter.associatedSpecies']],on='EntryID',how='inner')\n",
    "print(merge_df.shape)\n"
   ]
  },
  {
   "cell_type": "code",
   "execution_count": 132,
   "id": "8cfb6ada-6f57-4ac1-8dbf-1a09f724cc82",
   "metadata": {},
   "outputs": [
    {
     "ename": "KeyError",
     "evalue": "'Entryid'",
     "output_type": "error",
     "traceback": [
      "\u001b[1;31m---------------------------------------------------------------------------\u001b[0m",
      "\u001b[1;31mKeyError\u001b[0m                                  Traceback (most recent call last)",
      "Cell \u001b[1;32mIn[132], line 2\u001b[0m\n\u001b[0;32m      1\u001b[0m \u001b[38;5;66;03m#unqiue check\u001b[39;00m\n\u001b[1;32m----> 2\u001b[0m merge_df\u001b[38;5;241m.\u001b[39mgroupby([\u001b[38;5;124m'\u001b[39m\u001b[38;5;124mEntryid\u001b[39m\u001b[38;5;124m'\u001b[39m])\u001b[38;5;241m.\u001b[39msize()\u001b[38;5;241m.\u001b[39mmax()\n",
      "File \u001b[1;32md:\\anaconda3\\Lib\\site-packages\\pandas\\core\\frame.py:9183\u001b[0m, in \u001b[0;36mDataFrame.groupby\u001b[1;34m(self, by, axis, level, as_index, sort, group_keys, observed, dropna)\u001b[0m\n\u001b[0;32m   9180\u001b[0m \u001b[38;5;28;01mif\u001b[39;00m level \u001b[38;5;129;01mis\u001b[39;00m \u001b[38;5;28;01mNone\u001b[39;00m \u001b[38;5;129;01mand\u001b[39;00m by \u001b[38;5;129;01mis\u001b[39;00m \u001b[38;5;28;01mNone\u001b[39;00m:\n\u001b[0;32m   9181\u001b[0m     \u001b[38;5;28;01mraise\u001b[39;00m \u001b[38;5;167;01mTypeError\u001b[39;00m(\u001b[38;5;124m\"\u001b[39m\u001b[38;5;124mYou have to supply one of \u001b[39m\u001b[38;5;124m'\u001b[39m\u001b[38;5;124mby\u001b[39m\u001b[38;5;124m'\u001b[39m\u001b[38;5;124m and \u001b[39m\u001b[38;5;124m'\u001b[39m\u001b[38;5;124mlevel\u001b[39m\u001b[38;5;124m'\u001b[39m\u001b[38;5;124m\"\u001b[39m)\n\u001b[1;32m-> 9183\u001b[0m \u001b[38;5;28;01mreturn\u001b[39;00m DataFrameGroupBy(\n\u001b[0;32m   9184\u001b[0m     obj\u001b[38;5;241m=\u001b[39m\u001b[38;5;28mself\u001b[39m,\n\u001b[0;32m   9185\u001b[0m     keys\u001b[38;5;241m=\u001b[39mby,\n\u001b[0;32m   9186\u001b[0m     axis\u001b[38;5;241m=\u001b[39maxis,\n\u001b[0;32m   9187\u001b[0m     level\u001b[38;5;241m=\u001b[39mlevel,\n\u001b[0;32m   9188\u001b[0m     as_index\u001b[38;5;241m=\u001b[39mas_index,\n\u001b[0;32m   9189\u001b[0m     sort\u001b[38;5;241m=\u001b[39msort,\n\u001b[0;32m   9190\u001b[0m     group_keys\u001b[38;5;241m=\u001b[39mgroup_keys,\n\u001b[0;32m   9191\u001b[0m     observed\u001b[38;5;241m=\u001b[39mobserved,\n\u001b[0;32m   9192\u001b[0m     dropna\u001b[38;5;241m=\u001b[39mdropna,\n\u001b[0;32m   9193\u001b[0m )\n",
      "File \u001b[1;32md:\\anaconda3\\Lib\\site-packages\\pandas\\core\\groupby\\groupby.py:1329\u001b[0m, in \u001b[0;36mGroupBy.__init__\u001b[1;34m(self, obj, keys, axis, level, grouper, exclusions, selection, as_index, sort, group_keys, observed, dropna)\u001b[0m\n\u001b[0;32m   1326\u001b[0m \u001b[38;5;28mself\u001b[39m\u001b[38;5;241m.\u001b[39mdropna \u001b[38;5;241m=\u001b[39m dropna\n\u001b[0;32m   1328\u001b[0m \u001b[38;5;28;01mif\u001b[39;00m grouper \u001b[38;5;129;01mis\u001b[39;00m \u001b[38;5;28;01mNone\u001b[39;00m:\n\u001b[1;32m-> 1329\u001b[0m     grouper, exclusions, obj \u001b[38;5;241m=\u001b[39m get_grouper(\n\u001b[0;32m   1330\u001b[0m         obj,\n\u001b[0;32m   1331\u001b[0m         keys,\n\u001b[0;32m   1332\u001b[0m         axis\u001b[38;5;241m=\u001b[39maxis,\n\u001b[0;32m   1333\u001b[0m         level\u001b[38;5;241m=\u001b[39mlevel,\n\u001b[0;32m   1334\u001b[0m         sort\u001b[38;5;241m=\u001b[39msort,\n\u001b[0;32m   1335\u001b[0m         observed\u001b[38;5;241m=\u001b[39m\u001b[38;5;28;01mFalse\u001b[39;00m \u001b[38;5;28;01mif\u001b[39;00m observed \u001b[38;5;129;01mis\u001b[39;00m lib\u001b[38;5;241m.\u001b[39mno_default \u001b[38;5;28;01melse\u001b[39;00m observed,\n\u001b[0;32m   1336\u001b[0m         dropna\u001b[38;5;241m=\u001b[39m\u001b[38;5;28mself\u001b[39m\u001b[38;5;241m.\u001b[39mdropna,\n\u001b[0;32m   1337\u001b[0m     )\n\u001b[0;32m   1339\u001b[0m \u001b[38;5;28;01mif\u001b[39;00m observed \u001b[38;5;129;01mis\u001b[39;00m lib\u001b[38;5;241m.\u001b[39mno_default:\n\u001b[0;32m   1340\u001b[0m     \u001b[38;5;28;01mif\u001b[39;00m \u001b[38;5;28many\u001b[39m(ping\u001b[38;5;241m.\u001b[39m_passed_categorical \u001b[38;5;28;01mfor\u001b[39;00m ping \u001b[38;5;129;01min\u001b[39;00m grouper\u001b[38;5;241m.\u001b[39mgroupings):\n",
      "File \u001b[1;32md:\\anaconda3\\Lib\\site-packages\\pandas\\core\\groupby\\grouper.py:1043\u001b[0m, in \u001b[0;36mget_grouper\u001b[1;34m(obj, key, axis, level, sort, observed, validate, dropna)\u001b[0m\n\u001b[0;32m   1041\u001b[0m         in_axis, level, gpr \u001b[38;5;241m=\u001b[39m \u001b[38;5;28;01mFalse\u001b[39;00m, gpr, \u001b[38;5;28;01mNone\u001b[39;00m\n\u001b[0;32m   1042\u001b[0m     \u001b[38;5;28;01melse\u001b[39;00m:\n\u001b[1;32m-> 1043\u001b[0m         \u001b[38;5;28;01mraise\u001b[39;00m \u001b[38;5;167;01mKeyError\u001b[39;00m(gpr)\n\u001b[0;32m   1044\u001b[0m \u001b[38;5;28;01melif\u001b[39;00m \u001b[38;5;28misinstance\u001b[39m(gpr, Grouper) \u001b[38;5;129;01mand\u001b[39;00m gpr\u001b[38;5;241m.\u001b[39mkey \u001b[38;5;129;01mis\u001b[39;00m \u001b[38;5;129;01mnot\u001b[39;00m \u001b[38;5;28;01mNone\u001b[39;00m:\n\u001b[0;32m   1045\u001b[0m     \u001b[38;5;66;03m# Add key to exclusions\u001b[39;00m\n\u001b[0;32m   1046\u001b[0m     exclusions\u001b[38;5;241m.\u001b[39madd(gpr\u001b[38;5;241m.\u001b[39mkey)\n",
      "\u001b[1;31mKeyError\u001b[0m: 'Entryid'"
     ]
    }
   ],
   "source": [
    "#unqiue check\n",
    "merge_df.groupby(['EntryID']).size().max()\n",
    "#merge_df[merge_df.duplicated(subset=['EntryID',],keep=False)]"
   ]
  },
  {
   "cell_type": "code",
   "execution_count": 114,
   "id": "349ce5cc-0702-4128-a984-8d278983ba1b",
   "metadata": {},
   "outputs": [
    {
     "data": {
      "text/html": [
       "<div>\n",
       "<style scoped>\n",
       "    .dataframe tbody tr th:only-of-type {\n",
       "        vertical-align: middle;\n",
       "    }\n",
       "\n",
       "    .dataframe tbody tr th {\n",
       "        vertical-align: top;\n",
       "    }\n",
       "\n",
       "    .dataframe thead th {\n",
       "        text-align: right;\n",
       "    }\n",
       "</style>\n",
       "<table border=\"1\" class=\"dataframe\">\n",
       "  <thead>\n",
       "    <tr style=\"text-align: right;\">\n",
       "      <th></th>\n",
       "      <th>EntryID</th>\n",
       "      <th>Substrate</th>\n",
       "      <th>EnzymeType</th>\n",
       "      <th>Organism</th>\n",
       "      <th>UniprotID</th>\n",
       "      <th>ECNumber</th>\n",
       "      <th>parameter.type</th>\n",
       "      <th>parameter.associatedSpecies_x</th>\n",
       "      <th>parameter.startValue</th>\n",
       "      <th>parameter.unit</th>\n",
       "      <th>parameter.associatedSpecies_y</th>\n",
       "    </tr>\n",
       "  </thead>\n",
       "  <tbody>\n",
       "    <tr>\n",
       "      <th>0</th>\n",
       "      <td>3804.0</td>\n",
       "      <td>NAD+;1-Octanol</td>\n",
       "      <td>wildtype class III</td>\n",
       "      <td>Homo sapiens</td>\n",
       "      <td>P11766</td>\n",
       "      <td>1.1.1.1</td>\n",
       "      <td>kcat</td>\n",
       "      <td>NaN</td>\n",
       "      <td>2.833333</td>\n",
       "      <td>s^(-1)</td>\n",
       "      <td>1-Octanol</td>\n",
       "    </tr>\n",
       "    <tr>\n",
       "      <th>1</th>\n",
       "      <td>3805.0</td>\n",
       "      <td>NAD+;1-Pentanol</td>\n",
       "      <td>wildtype class III</td>\n",
       "      <td>Homo sapiens</td>\n",
       "      <td>P11766</td>\n",
       "      <td>1.1.1.1</td>\n",
       "      <td>kcat</td>\n",
       "      <td>NaN</td>\n",
       "      <td>0.183333</td>\n",
       "      <td>s^(-1)</td>\n",
       "      <td>1-Pentanol</td>\n",
       "    </tr>\n",
       "    <tr>\n",
       "      <th>2</th>\n",
       "      <td>3806.0</td>\n",
       "      <td>12-Hydroxydodecanoic acid;NAD+</td>\n",
       "      <td>wildtype class III</td>\n",
       "      <td>Homo sapiens</td>\n",
       "      <td>P11766</td>\n",
       "      <td>1.1.1.1</td>\n",
       "      <td>kcat</td>\n",
       "      <td>NaN</td>\n",
       "      <td>0.333333</td>\n",
       "      <td>s^(-1)</td>\n",
       "      <td>12-Hydroxydodecanoic acid</td>\n",
       "    </tr>\n",
       "    <tr>\n",
       "      <th>3</th>\n",
       "      <td>4505.0</td>\n",
       "      <td>NAD+;Ethanol</td>\n",
       "      <td>wildtype ADHIII</td>\n",
       "      <td>Kluyveromyces lactis</td>\n",
       "      <td>P49384</td>\n",
       "      <td>1.1.1.1</td>\n",
       "      <td>kcat</td>\n",
       "      <td>NaN</td>\n",
       "      <td>408.333300</td>\n",
       "      <td>s^(-1)</td>\n",
       "      <td>NAD+</td>\n",
       "    </tr>\n",
       "    <tr>\n",
       "      <th>4</th>\n",
       "      <td>4506.0</td>\n",
       "      <td>Ethanol;NAD+</td>\n",
       "      <td>mutant ADHIII G225A</td>\n",
       "      <td>Kluyveromyces lactis</td>\n",
       "      <td>P49384</td>\n",
       "      <td>1.1.1.1</td>\n",
       "      <td>kcat</td>\n",
       "      <td>NaN</td>\n",
       "      <td>405.000000</td>\n",
       "      <td>s^(-1)</td>\n",
       "      <td>NAD+</td>\n",
       "    </tr>\n",
       "    <tr>\n",
       "      <th>...</th>\n",
       "      <td>...</td>\n",
       "      <td>...</td>\n",
       "      <td>...</td>\n",
       "      <td>...</td>\n",
       "      <td>...</td>\n",
       "      <td>...</td>\n",
       "      <td>...</td>\n",
       "      <td>...</td>\n",
       "      <td>...</td>\n",
       "      <td>...</td>\n",
       "      <td>...</td>\n",
       "    </tr>\n",
       "    <tr>\n",
       "      <th>19554</th>\n",
       "      <td>42806.0</td>\n",
       "      <td>Acetyl-CoA;Hydrogencarbonate;ATP</td>\n",
       "      <td>wildtype ACC2</td>\n",
       "      <td>Rattus norvegicus</td>\n",
       "      <td>Q1HEC0</td>\n",
       "      <td>6.4.1.2</td>\n",
       "      <td>kcat</td>\n",
       "      <td>NaN</td>\n",
       "      <td>11.600000</td>\n",
       "      <td>s^(-1)</td>\n",
       "      <td>Acetyl-CoA</td>\n",
       "    </tr>\n",
       "    <tr>\n",
       "      <th>19555</th>\n",
       "      <td>42807.0</td>\n",
       "      <td>Hydrogencarbonate;ATP;Acetyl-CoA</td>\n",
       "      <td>wildtype ACC2</td>\n",
       "      <td>Rattus norvegicus</td>\n",
       "      <td>Q1HEC0</td>\n",
       "      <td>6.4.1.2</td>\n",
       "      <td>kcat</td>\n",
       "      <td>NaN</td>\n",
       "      <td>11.600000</td>\n",
       "      <td>s^(-1)</td>\n",
       "      <td>Hydrogencarbonate</td>\n",
       "    </tr>\n",
       "    <tr>\n",
       "      <th>19556</th>\n",
       "      <td>59258.0</td>\n",
       "      <td>DNA;NAD+</td>\n",
       "      <td>wildtype His10-LigA</td>\n",
       "      <td>Mycobacterium tuberculosis</td>\n",
       "      <td>P9WNV1</td>\n",
       "      <td>6.5.1.2</td>\n",
       "      <td>kcat</td>\n",
       "      <td>NaN</td>\n",
       "      <td>0.071667</td>\n",
       "      <td>s^(-1)</td>\n",
       "      <td>NAD+</td>\n",
       "    </tr>\n",
       "    <tr>\n",
       "      <th>19557</th>\n",
       "      <td>42083.0</td>\n",
       "      <td>ATP;H2O</td>\n",
       "      <td>wildtype NBD1-581 (aa: 395-581)</td>\n",
       "      <td>Mus musculus</td>\n",
       "      <td>P06795</td>\n",
       "      <td>7.6.2.2</td>\n",
       "      <td>kcat</td>\n",
       "      <td>NaN</td>\n",
       "      <td>0.008333</td>\n",
       "      <td>s^(-1)</td>\n",
       "      <td>ATP</td>\n",
       "    </tr>\n",
       "    <tr>\n",
       "      <th>19558</th>\n",
       "      <td>75874.0</td>\n",
       "      <td>Hemin;ATP;H2O</td>\n",
       "      <td>wildtype C-terminal GFP-His10-tag</td>\n",
       "      <td>Homo sapiens</td>\n",
       "      <td>Q9NP58</td>\n",
       "      <td>7.6.2.5</td>\n",
       "      <td>kcat</td>\n",
       "      <td>NaN</td>\n",
       "      <td>0.120000</td>\n",
       "      <td>s^(-1)</td>\n",
       "      <td>ATP</td>\n",
       "    </tr>\n",
       "  </tbody>\n",
       "</table>\n",
       "<p>19559 rows × 11 columns</p>\n",
       "</div>"
      ],
      "text/plain": [
       "       EntryID                         Substrate  \\\n",
       "0       3804.0                    NAD+;1-Octanol   \n",
       "1       3805.0                   NAD+;1-Pentanol   \n",
       "2       3806.0    12-Hydroxydodecanoic acid;NAD+   \n",
       "3       4505.0                      NAD+;Ethanol   \n",
       "4       4506.0                      Ethanol;NAD+   \n",
       "...        ...                               ...   \n",
       "19554  42806.0  Acetyl-CoA;Hydrogencarbonate;ATP   \n",
       "19555  42807.0  Hydrogencarbonate;ATP;Acetyl-CoA   \n",
       "19556  59258.0                          DNA;NAD+   \n",
       "19557  42083.0                           ATP;H2O   \n",
       "19558  75874.0                     Hemin;ATP;H2O   \n",
       "\n",
       "                              EnzymeType                    Organism  \\\n",
       "0                     wildtype class III                Homo sapiens   \n",
       "1                     wildtype class III                Homo sapiens   \n",
       "2                     wildtype class III                Homo sapiens   \n",
       "3                        wildtype ADHIII        Kluyveromyces lactis   \n",
       "4                    mutant ADHIII G225A        Kluyveromyces lactis   \n",
       "...                                  ...                         ...   \n",
       "19554                      wildtype ACC2           Rattus norvegicus   \n",
       "19555                      wildtype ACC2           Rattus norvegicus   \n",
       "19556                wildtype His10-LigA  Mycobacterium tuberculosis   \n",
       "19557    wildtype NBD1-581 (aa: 395-581)                Mus musculus   \n",
       "19558  wildtype C-terminal GFP-His10-tag                Homo sapiens   \n",
       "\n",
       "      UniprotID ECNumber parameter.type parameter.associatedSpecies_x  \\\n",
       "0        P11766  1.1.1.1           kcat                           NaN   \n",
       "1        P11766  1.1.1.1           kcat                           NaN   \n",
       "2        P11766  1.1.1.1           kcat                           NaN   \n",
       "3        P49384  1.1.1.1           kcat                           NaN   \n",
       "4        P49384  1.1.1.1           kcat                           NaN   \n",
       "...         ...      ...            ...                           ...   \n",
       "19554    Q1HEC0  6.4.1.2           kcat                           NaN   \n",
       "19555    Q1HEC0  6.4.1.2           kcat                           NaN   \n",
       "19556    P9WNV1  6.5.1.2           kcat                           NaN   \n",
       "19557    P06795  7.6.2.2           kcat                           NaN   \n",
       "19558    Q9NP58  7.6.2.5           kcat                           NaN   \n",
       "\n",
       "       parameter.startValue parameter.unit parameter.associatedSpecies_y  \n",
       "0                  2.833333         s^(-1)                     1-Octanol  \n",
       "1                  0.183333         s^(-1)                    1-Pentanol  \n",
       "2                  0.333333         s^(-1)     12-Hydroxydodecanoic acid  \n",
       "3                408.333300         s^(-1)                          NAD+  \n",
       "4                405.000000         s^(-1)                          NAD+  \n",
       "...                     ...            ...                           ...  \n",
       "19554             11.600000         s^(-1)                    Acetyl-CoA  \n",
       "19555             11.600000         s^(-1)             Hydrogencarbonate  \n",
       "19556              0.071667         s^(-1)                          NAD+  \n",
       "19557              0.008333         s^(-1)                           ATP  \n",
       "19558              0.120000         s^(-1)                           ATP  \n",
       "\n",
       "[19559 rows x 11 columns]"
      ]
     },
     "execution_count": 114,
     "metadata": {},
     "output_type": "execute_result"
    }
   ],
   "source": [
    "merge_df"
   ]
  },
  {
   "cell_type": "code",
   "execution_count": 115,
   "id": "3969961d-c707-40ec-820c-cbd9a126f17b",
   "metadata": {},
   "outputs": [],
   "source": [
    "#generate output dataframe\n",
    "df_output=pd.DataFrame()"
   ]
  },
  {
   "cell_type": "code",
   "execution_count": 118,
   "id": "fa67c2bf-a33f-48a9-89ac-637962959f33",
   "metadata": {},
   "outputs": [],
   "source": [
    "df_output['ECNumber']=merge_df['ECNumber']\n",
    "df_output['Organism']=merge_df['Organism']\n",
    "df_output['Substrate']=merge_df['parameter.associatedSpecies_y']\n",
    "df_output['Value']=merge_df['parameter.startValue']\n",
    "df_output['unit']=merge_df['parameter.unit']\n",
    "df_output['UniprotID']=merge_df['UniprotID']"
   ]
  },
  {
   "cell_type": "code",
   "execution_count": 119,
   "id": "6e52672f-69ac-40b9-a8e3-67aade59efdf",
   "metadata": {},
   "outputs": [
    {
     "data": {
      "text/html": [
       "<div>\n",
       "<style scoped>\n",
       "    .dataframe tbody tr th:only-of-type {\n",
       "        vertical-align: middle;\n",
       "    }\n",
       "\n",
       "    .dataframe tbody tr th {\n",
       "        vertical-align: top;\n",
       "    }\n",
       "\n",
       "    .dataframe thead th {\n",
       "        text-align: right;\n",
       "    }\n",
       "</style>\n",
       "<table border=\"1\" class=\"dataframe\">\n",
       "  <thead>\n",
       "    <tr style=\"text-align: right;\">\n",
       "      <th></th>\n",
       "      <th>ECNumber</th>\n",
       "      <th>Organism</th>\n",
       "      <th>Substrate</th>\n",
       "      <th>Value</th>\n",
       "      <th>unit</th>\n",
       "      <th>UniprotID</th>\n",
       "    </tr>\n",
       "  </thead>\n",
       "  <tbody>\n",
       "    <tr>\n",
       "      <th>0</th>\n",
       "      <td>1.1.1.1</td>\n",
       "      <td>Homo sapiens</td>\n",
       "      <td>1-Octanol</td>\n",
       "      <td>2.833333</td>\n",
       "      <td>s^(-1)</td>\n",
       "      <td>P11766</td>\n",
       "    </tr>\n",
       "    <tr>\n",
       "      <th>1</th>\n",
       "      <td>1.1.1.1</td>\n",
       "      <td>Homo sapiens</td>\n",
       "      <td>1-Pentanol</td>\n",
       "      <td>0.183333</td>\n",
       "      <td>s^(-1)</td>\n",
       "      <td>P11766</td>\n",
       "    </tr>\n",
       "    <tr>\n",
       "      <th>2</th>\n",
       "      <td>1.1.1.1</td>\n",
       "      <td>Homo sapiens</td>\n",
       "      <td>12-Hydroxydodecanoic acid</td>\n",
       "      <td>0.333333</td>\n",
       "      <td>s^(-1)</td>\n",
       "      <td>P11766</td>\n",
       "    </tr>\n",
       "    <tr>\n",
       "      <th>3</th>\n",
       "      <td>1.1.1.1</td>\n",
       "      <td>Kluyveromyces lactis</td>\n",
       "      <td>NAD+</td>\n",
       "      <td>408.333300</td>\n",
       "      <td>s^(-1)</td>\n",
       "      <td>P49384</td>\n",
       "    </tr>\n",
       "    <tr>\n",
       "      <th>4</th>\n",
       "      <td>1.1.1.1</td>\n",
       "      <td>Kluyveromyces lactis</td>\n",
       "      <td>NAD+</td>\n",
       "      <td>405.000000</td>\n",
       "      <td>s^(-1)</td>\n",
       "      <td>P49384</td>\n",
       "    </tr>\n",
       "    <tr>\n",
       "      <th>...</th>\n",
       "      <td>...</td>\n",
       "      <td>...</td>\n",
       "      <td>...</td>\n",
       "      <td>...</td>\n",
       "      <td>...</td>\n",
       "      <td>...</td>\n",
       "    </tr>\n",
       "    <tr>\n",
       "      <th>19554</th>\n",
       "      <td>6.4.1.2</td>\n",
       "      <td>Rattus norvegicus</td>\n",
       "      <td>Acetyl-CoA</td>\n",
       "      <td>11.600000</td>\n",
       "      <td>s^(-1)</td>\n",
       "      <td>Q1HEC0</td>\n",
       "    </tr>\n",
       "    <tr>\n",
       "      <th>19555</th>\n",
       "      <td>6.4.1.2</td>\n",
       "      <td>Rattus norvegicus</td>\n",
       "      <td>Hydrogencarbonate</td>\n",
       "      <td>11.600000</td>\n",
       "      <td>s^(-1)</td>\n",
       "      <td>Q1HEC0</td>\n",
       "    </tr>\n",
       "    <tr>\n",
       "      <th>19556</th>\n",
       "      <td>6.5.1.2</td>\n",
       "      <td>Mycobacterium tuberculosis</td>\n",
       "      <td>NAD+</td>\n",
       "      <td>0.071667</td>\n",
       "      <td>s^(-1)</td>\n",
       "      <td>P9WNV1</td>\n",
       "    </tr>\n",
       "    <tr>\n",
       "      <th>19557</th>\n",
       "      <td>7.6.2.2</td>\n",
       "      <td>Mus musculus</td>\n",
       "      <td>ATP</td>\n",
       "      <td>0.008333</td>\n",
       "      <td>s^(-1)</td>\n",
       "      <td>P06795</td>\n",
       "    </tr>\n",
       "    <tr>\n",
       "      <th>19558</th>\n",
       "      <td>7.6.2.5</td>\n",
       "      <td>Homo sapiens</td>\n",
       "      <td>ATP</td>\n",
       "      <td>0.120000</td>\n",
       "      <td>s^(-1)</td>\n",
       "      <td>Q9NP58</td>\n",
       "    </tr>\n",
       "  </tbody>\n",
       "</table>\n",
       "<p>19559 rows × 6 columns</p>\n",
       "</div>"
      ],
      "text/plain": [
       "      ECNumber                    Organism                  Substrate  \\\n",
       "0      1.1.1.1                Homo sapiens                  1-Octanol   \n",
       "1      1.1.1.1                Homo sapiens                 1-Pentanol   \n",
       "2      1.1.1.1                Homo sapiens  12-Hydroxydodecanoic acid   \n",
       "3      1.1.1.1        Kluyveromyces lactis                       NAD+   \n",
       "4      1.1.1.1        Kluyveromyces lactis                       NAD+   \n",
       "...        ...                         ...                        ...   \n",
       "19554  6.4.1.2           Rattus norvegicus                 Acetyl-CoA   \n",
       "19555  6.4.1.2           Rattus norvegicus          Hydrogencarbonate   \n",
       "19556  6.5.1.2  Mycobacterium tuberculosis                       NAD+   \n",
       "19557  7.6.2.2                Mus musculus                        ATP   \n",
       "19558  7.6.2.5                Homo sapiens                        ATP   \n",
       "\n",
       "            Value    unit UniprotID  \n",
       "0        2.833333  s^(-1)    P11766  \n",
       "1        0.183333  s^(-1)    P11766  \n",
       "2        0.333333  s^(-1)    P11766  \n",
       "3      408.333300  s^(-1)    P49384  \n",
       "4      405.000000  s^(-1)    P49384  \n",
       "...           ...     ...       ...  \n",
       "19554   11.600000  s^(-1)    Q1HEC0  \n",
       "19555   11.600000  s^(-1)    Q1HEC0  \n",
       "19556    0.071667  s^(-1)    P9WNV1  \n",
       "19557    0.008333  s^(-1)    P06795  \n",
       "19558    0.120000  s^(-1)    Q9NP58  \n",
       "\n",
       "[19559 rows x 6 columns]"
      ]
     },
     "execution_count": 119,
     "metadata": {},
     "output_type": "execute_result"
    }
   ],
   "source": [
    "df_output"
   ]
  },
  {
   "cell_type": "code",
   "execution_count": null,
   "id": "9fe2cfc7-0c41-4bac-9473-71e876db36dd",
   "metadata": {},
   "outputs": [],
   "source": []
  }
 ],
 "metadata": {
  "kernelspec": {
   "display_name": "Python 3 (ipykernel)",
   "language": "python",
   "name": "python3"
  },
  "language_info": {
   "codemirror_mode": {
    "name": "ipython",
    "version": 3
   },
   "file_extension": ".py",
   "mimetype": "text/x-python",
   "name": "python",
   "nbconvert_exporter": "python",
   "pygments_lexer": "ipython3",
   "version": "3.12.4"
  }
 },
 "nbformat": 4,
 "nbformat_minor": 5
}
