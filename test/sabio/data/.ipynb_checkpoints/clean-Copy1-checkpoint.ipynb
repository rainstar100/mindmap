{
 "cells": [
  {
   "cell_type": "code",
   "execution_count": 1,
   "id": "2bf55064-0f69-4f15-a103-103f8ec0a170",
   "metadata": {},
   "outputs": [],
   "source": [
    "import pandas as pd"
   ]
  },
  {
   "cell_type": "code",
   "execution_count": 116,
   "id": "b5b9ea82-a421-45b1-b7ce-d23add8cc2d0",
   "metadata": {},
   "outputs": [
    {
     "data": {
      "text/html": [
       "<div>\n",
       "<style scoped>\n",
       "    .dataframe tbody tr th:only-of-type {\n",
       "        vertical-align: middle;\n",
       "    }\n",
       "\n",
       "    .dataframe tbody tr th {\n",
       "        vertical-align: top;\n",
       "    }\n",
       "\n",
       "    .dataframe thead th {\n",
       "        text-align: right;\n",
       "    }\n",
       "</style>\n",
       "<table border=\"1\" class=\"dataframe\">\n",
       "  <thead>\n",
       "    <tr style=\"text-align: right;\">\n",
       "      <th></th>\n",
       "      <th>EntryID</th>\n",
       "      <th>Substrate</th>\n",
       "      <th>EnzymeType</th>\n",
       "      <th>PubMedID</th>\n",
       "      <th>Organism</th>\n",
       "      <th>UniprotID</th>\n",
       "      <th>ECNumber</th>\n",
       "      <th>parameter.type</th>\n",
       "      <th>parameter.associatedSpecies</th>\n",
       "      <th>parameter.startValue</th>\n",
       "      <th>parameter.endValue</th>\n",
       "      <th>parameter.standardDeviation</th>\n",
       "      <th>parameter.unit</th>\n",
       "    </tr>\n",
       "  </thead>\n",
       "  <tbody>\n",
       "    <tr>\n",
       "      <th>2</th>\n",
       "      <td>3804</td>\n",
       "      <td>NAD+;1-Octanol</td>\n",
       "      <td>wildtype class III</td>\n",
       "      <td>2936344.0</td>\n",
       "      <td>Homo sapiens</td>\n",
       "      <td>P11766</td>\n",
       "      <td>1.1.1.1</td>\n",
       "      <td>kcat</td>\n",
       "      <td>NaN</td>\n",
       "      <td>2.833333</td>\n",
       "      <td>NaN</td>\n",
       "      <td>-</td>\n",
       "      <td>s^(-1)</td>\n",
       "    </tr>\n",
       "  </tbody>\n",
       "</table>\n",
       "</div>"
      ],
      "text/plain": [
       "   EntryID       Substrate          EnzymeType   PubMedID      Organism  \\\n",
       "2     3804  NAD+;1-Octanol  wildtype class III  2936344.0  Homo sapiens   \n",
       "\n",
       "  UniprotID ECNumber parameter.type parameter.associatedSpecies  \\\n",
       "2    P11766  1.1.1.1           kcat                         NaN   \n",
       "\n",
       "   parameter.startValue  parameter.endValue parameter.standardDeviation  \\\n",
       "2              2.833333                 NaN                           -   \n",
       "\n",
       "  parameter.unit  \n",
       "2         s^(-1)  "
      ]
     },
     "execution_count": 116,
     "metadata": {},
     "output_type": "execute_result"
    }
   ],
   "source": [
    "df=pd.read_csv('1.1.1.1.txt',delimiter='\\t')\n",
    "#select kcat\n",
    "df_kcat=df[(df['parameter.type']=='kcat')&(df['parameter.unit']!='-')]\n",
    "df_kcat.head(1)"
   ]
  },
  {
   "cell_type": "code",
   "execution_count": 107,
   "id": "e2c53520-d3a7-4513-9d64-631bda0498d8",
   "metadata": {},
   "outputs": [],
   "source": [
    "data=pd.DataFrame()\n",
    "        \"ECNumber\": \"1.1.1.1\",\n",
    "        \"Organism\": \"Homo sapiens\",\n",
    "        \"Smiles\": \"CC1=C(C(CCC1)(C)C)C=CC(=CC=CC(=CCO)C)C\",\n",
    "        \"Substrate\": \"all-trans-Retinol\",\n",
    "        \"Sequence\": \"MGTKGKVIKCKAAIAWEAGKPLCIEEVEVAPPKAHEVRIQIIATSLCHTDATVIDSKFEGLAFPVIVGHEAAGIVESIGPGVTNVKPGDKVIPLYAPLCRKCKFCLSPLTNLCGKISNLKSPASDQQLMEDKTSRFTCKGKPVYHFFGTSTFSQYTVVSDINLAKIDDDANLERVCLLGCGFSTGYGAAINNAKVTPGSTCAVFGLGGVGLSAVMGCKAAGASRIIGIDINSEKFVKAKALGATDCLNPRDLHKPIQEVIIELTKGGVDFALDCAGGSETMKAALDCTTAGWGSCTFIGVAAGSKGLTIFPEELIIGRTINGTFFGGWKSVDSIPKLVTDYKNKKFNLDALVTHTLPFDKISEAFDLMNQGKSVRTILIF\",\n",
    "        \"Value\": \"3.16666667\",\n",
    "        \"Unit\": \"s^(-1)\""
   ]
  },
  {
   "cell_type": "code",
   "execution_count": 110,
   "id": "8003cbe9-0f1d-4420-af58-f17b4b75afb6",
   "metadata": {},
   "outputs": [],
   "source": [
    "columns=['ECNumber','Organism','Smiles','Substrate','Sequence','Value','Unit','UniprotID']"
   ]
  },
  {
   "cell_type": "code",
   "execution_count": 135,
   "id": "55646b9d-7acd-4beb-964c-d951bbff9c37",
   "metadata": {},
   "outputs": [],
   "source": [
    "data=pd.DataFrame(columns=columns)"
   ]
  },
  {
   "cell_type": "code",
   "execution_count": 136,
   "id": "8aaf40fc-3348-4634-a5b4-d8b34c0c2205",
   "metadata": {},
   "outputs": [],
   "source": [
    "data['ECNumber']=df_kcat['ECNumber']\n",
    "data['Organism']=df_kcat['Organism']\n",
    "data['Substrate']=df_kcat['Substrate']\n",
    "data['Value']=df_kcat['parameter.startValue']\n",
    "data['Unit']=df_kcat['parameter.unit']\n",
    "data['UniprotID']=df_kcat['UniprotID']\n"
   ]
  },
  {
   "cell_type": "code",
   "execution_count": 133,
   "id": "800502d1-0b41-4a21-b18b-a4654c325d88",
   "metadata": {},
   "outputs": [],
   "source": [
    "del data['unit']"
   ]
  },
  {
   "cell_type": "code",
   "execution_count": 137,
   "id": "8742ccfe-81c9-4318-bb6c-ed052e207086",
   "metadata": {},
   "outputs": [
    {
     "data": {
      "text/html": [
       "<div>\n",
       "<style scoped>\n",
       "    .dataframe tbody tr th:only-of-type {\n",
       "        vertical-align: middle;\n",
       "    }\n",
       "\n",
       "    .dataframe tbody tr th {\n",
       "        vertical-align: top;\n",
       "    }\n",
       "\n",
       "    .dataframe thead th {\n",
       "        text-align: right;\n",
       "    }\n",
       "</style>\n",
       "<table border=\"1\" class=\"dataframe\">\n",
       "  <thead>\n",
       "    <tr style=\"text-align: right;\">\n",
       "      <th></th>\n",
       "      <th>ECNumber</th>\n",
       "      <th>Organism</th>\n",
       "      <th>Smiles</th>\n",
       "      <th>Substrate</th>\n",
       "      <th>Sequence</th>\n",
       "      <th>Value</th>\n",
       "      <th>Unit</th>\n",
       "      <th>UniprotID</th>\n",
       "    </tr>\n",
       "  </thead>\n",
       "  <tbody>\n",
       "    <tr>\n",
       "      <th>2</th>\n",
       "      <td>1.1.1.1</td>\n",
       "      <td>Homo sapiens</td>\n",
       "      <td>NaN</td>\n",
       "      <td>NAD+;1-Octanol</td>\n",
       "      <td>NaN</td>\n",
       "      <td>2.833333</td>\n",
       "      <td>s^(-1)</td>\n",
       "      <td>P11766</td>\n",
       "    </tr>\n",
       "    <tr>\n",
       "      <th>3</th>\n",
       "      <td>1.1.1.1</td>\n",
       "      <td>Homo sapiens</td>\n",
       "      <td>NaN</td>\n",
       "      <td>NAD+;1-Pentanol</td>\n",
       "      <td>NaN</td>\n",
       "      <td>0.183333</td>\n",
       "      <td>s^(-1)</td>\n",
       "      <td>P11766</td>\n",
       "    </tr>\n",
       "    <tr>\n",
       "      <th>6</th>\n",
       "      <td>1.1.1.1</td>\n",
       "      <td>Homo sapiens</td>\n",
       "      <td>NaN</td>\n",
       "      <td>12-Hydroxydodecanoic acid;NAD+</td>\n",
       "      <td>NaN</td>\n",
       "      <td>0.333333</td>\n",
       "      <td>s^(-1)</td>\n",
       "      <td>P11766</td>\n",
       "    </tr>\n",
       "    <tr>\n",
       "      <th>9</th>\n",
       "      <td>1.1.1.1</td>\n",
       "      <td>Kluyveromyces lactis</td>\n",
       "      <td>NaN</td>\n",
       "      <td>NAD+;Ethanol</td>\n",
       "      <td>NaN</td>\n",
       "      <td>408.333300</td>\n",
       "      <td>s^(-1)</td>\n",
       "      <td>P49384</td>\n",
       "    </tr>\n",
       "    <tr>\n",
       "      <th>15</th>\n",
       "      <td>1.1.1.1</td>\n",
       "      <td>Kluyveromyces lactis</td>\n",
       "      <td>NaN</td>\n",
       "      <td>Ethanol;NAD+</td>\n",
       "      <td>NaN</td>\n",
       "      <td>405.000000</td>\n",
       "      <td>s^(-1)</td>\n",
       "      <td>P49384</td>\n",
       "    </tr>\n",
       "    <tr>\n",
       "      <th>...</th>\n",
       "      <td>...</td>\n",
       "      <td>...</td>\n",
       "      <td>...</td>\n",
       "      <td>...</td>\n",
       "      <td>...</td>\n",
       "      <td>...</td>\n",
       "      <td>...</td>\n",
       "      <td>...</td>\n",
       "    </tr>\n",
       "    <tr>\n",
       "      <th>3498</th>\n",
       "      <td>1.1.1.1</td>\n",
       "      <td>Moraxella sp.</td>\n",
       "      <td>NaN</td>\n",
       "      <td>Ethanol;NAD+</td>\n",
       "      <td>NaN</td>\n",
       "      <td>1.663333</td>\n",
       "      <td>s^(-1)</td>\n",
       "      <td>P81786</td>\n",
       "    </tr>\n",
       "    <tr>\n",
       "      <th>3507</th>\n",
       "      <td>1.1.1.1</td>\n",
       "      <td>Moraxella sp.</td>\n",
       "      <td>NaN</td>\n",
       "      <td>H+;NADH;Acetone</td>\n",
       "      <td>NaN</td>\n",
       "      <td>0.138333</td>\n",
       "      <td>s^(-1)</td>\n",
       "      <td>P81786</td>\n",
       "    </tr>\n",
       "    <tr>\n",
       "      <th>3549</th>\n",
       "      <td>1.1.1.1</td>\n",
       "      <td>Saccharomyces cerevisiae</td>\n",
       "      <td>NaN</td>\n",
       "      <td>NADH;H+;Acetaldehyde</td>\n",
       "      <td>NaN</td>\n",
       "      <td>176.000000</td>\n",
       "      <td>s^(-1)</td>\n",
       "      <td>P00330</td>\n",
       "    </tr>\n",
       "    <tr>\n",
       "      <th>3553</th>\n",
       "      <td>1.1.1.1</td>\n",
       "      <td>Saccharomyces cerevisiae</td>\n",
       "      <td>NaN</td>\n",
       "      <td>NADH;Acetaldehyde;H+</td>\n",
       "      <td>NaN</td>\n",
       "      <td>176.000000</td>\n",
       "      <td>s^(-1)</td>\n",
       "      <td>P00330</td>\n",
       "    </tr>\n",
       "    <tr>\n",
       "      <th>3579</th>\n",
       "      <td>1.1.1.1</td>\n",
       "      <td>Saccharomyces cerevisiae</td>\n",
       "      <td>NaN</td>\n",
       "      <td>H+;Acetaldehyde;NADH</td>\n",
       "      <td>NaN</td>\n",
       "      <td>0.000000</td>\n",
       "      <td>s^(-1)</td>\n",
       "      <td>P38113</td>\n",
       "    </tr>\n",
       "  </tbody>\n",
       "</table>\n",
       "<p>517 rows × 8 columns</p>\n",
       "</div>"
      ],
      "text/plain": [
       "     ECNumber                  Organism Smiles  \\\n",
       "2     1.1.1.1              Homo sapiens    NaN   \n",
       "3     1.1.1.1              Homo sapiens    NaN   \n",
       "6     1.1.1.1              Homo sapiens    NaN   \n",
       "9     1.1.1.1      Kluyveromyces lactis    NaN   \n",
       "15    1.1.1.1      Kluyveromyces lactis    NaN   \n",
       "...       ...                       ...    ...   \n",
       "3498  1.1.1.1             Moraxella sp.    NaN   \n",
       "3507  1.1.1.1             Moraxella sp.    NaN   \n",
       "3549  1.1.1.1  Saccharomyces cerevisiae    NaN   \n",
       "3553  1.1.1.1  Saccharomyces cerevisiae    NaN   \n",
       "3579  1.1.1.1  Saccharomyces cerevisiae    NaN   \n",
       "\n",
       "                           Substrate Sequence       Value    Unit UniprotID  \n",
       "2                     NAD+;1-Octanol      NaN    2.833333  s^(-1)    P11766  \n",
       "3                    NAD+;1-Pentanol      NaN    0.183333  s^(-1)    P11766  \n",
       "6     12-Hydroxydodecanoic acid;NAD+      NaN    0.333333  s^(-1)    P11766  \n",
       "9                       NAD+;Ethanol      NaN  408.333300  s^(-1)    P49384  \n",
       "15                      Ethanol;NAD+      NaN  405.000000  s^(-1)    P49384  \n",
       "...                              ...      ...         ...     ...       ...  \n",
       "3498                    Ethanol;NAD+      NaN    1.663333  s^(-1)    P81786  \n",
       "3507                 H+;NADH;Acetone      NaN    0.138333  s^(-1)    P81786  \n",
       "3549            NADH;H+;Acetaldehyde      NaN  176.000000  s^(-1)    P00330  \n",
       "3553            NADH;Acetaldehyde;H+      NaN  176.000000  s^(-1)    P00330  \n",
       "3579            H+;Acetaldehyde;NADH      NaN    0.000000  s^(-1)    P38113  \n",
       "\n",
       "[517 rows x 8 columns]"
      ]
     },
     "execution_count": 137,
     "metadata": {},
     "output_type": "execute_result"
    }
   ],
   "source": [
    "data"
   ]
  },
  {
   "cell_type": "code",
   "execution_count": 138,
   "id": "ed1907b6-7b5f-4974-8447-53e7205898a0",
   "metadata": {},
   "outputs": [
    {
     "data": {
      "text/plain": [
       "False"
      ]
     },
     "execution_count": 138,
     "metadata": {},
     "output_type": "execute_result"
    }
   ],
   "source": [
    "[1,2]==[2,1]"
   ]
  },
  {
   "cell_type": "code",
   "execution_count": 142,
   "id": "220ad31b-9ede-4458-9037-11dedbeff557",
   "metadata": {},
   "outputs": [
    {
     "data": {
      "text/plain": [
       "{'1', '2'}"
      ]
     },
     "execution_count": 142,
     "metadata": {},
     "output_type": "execute_result"
    }
   ],
   "source": [
    "a='1,2'\n",
    "set(a.split(','))"
   ]
  },
  {
   "cell_type": "code",
   "execution_count": 141,
   "id": "3dfaad6a-7001-4bb0-9b62-bc64122e9ab2",
   "metadata": {},
   "outputs": [
    {
     "ename": "AttributeError",
     "evalue": "'str' object has no attribute 'sort'",
     "output_type": "error",
     "traceback": [
      "\u001b[1;31m---------------------------------------------------------------------------\u001b[0m",
      "\u001b[1;31mAttributeError\u001b[0m                            Traceback (most recent call last)",
      "Cell \u001b[1;32mIn[141], line 1\u001b[0m\n\u001b[1;32m----> 1\u001b[0m \u001b[38;5;124m'\u001b[39m\u001b[38;5;124mNAD+;Ethanol\u001b[39m\u001b[38;5;124m'\u001b[39m\u001b[38;5;241m.\u001b[39msort()\u001b[38;5;241m==\u001b[39m\u001b[38;5;124m'\u001b[39m\u001b[38;5;124mEthanol;NAD+\u001b[39m\u001b[38;5;124m'\u001b[39m\u001b[38;5;241m.\u001b[39msort()\n",
      "\u001b[1;31mAttributeError\u001b[0m: 'str' object has no attribute 'sort'"
     ]
    }
   ],
   "source": [
    "'NAD+;Ethanol'.s=='Ethanol;NAD+'.sort()"
   ]
  },
  {
   "cell_type": "code",
   "execution_count": null,
   "id": "adc3d89c-e134-4b8c-8bff-4a389e234e3e",
   "metadata": {},
   "outputs": [],
   "source": []
  }
 ],
 "metadata": {
  "kernelspec": {
   "display_name": "Python 3 (ipykernel)",
   "language": "python",
   "name": "python3"
  },
  "language_info": {
   "codemirror_mode": {
    "name": "ipython",
    "version": 3
   },
   "file_extension": ".py",
   "mimetype": "text/x-python",
   "name": "python",
   "nbconvert_exporter": "python",
   "pygments_lexer": "ipython3",
   "version": "3.12.4"
  }
 },
 "nbformat": 4,
 "nbformat_minor": 5
}
