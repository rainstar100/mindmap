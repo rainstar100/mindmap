{
 "cells": [
  {
   "cell_type": "code",
   "execution_count": 4,
   "id": "2bf55064-0f69-4f15-a103-103f8ec0a170",
   "metadata": {},
   "outputs": [],
   "source": [
    "import pandas as pd"
   ]
  },
  {
   "cell_type": "code",
   "execution_count": 5,
   "id": "b5b9ea82-a421-45b1-b7ce-d23add8cc2d0",
   "metadata": {},
   "outputs": [
    {
     "data": {
      "text/html": [
       "<div>\n",
       "<style scoped>\n",
       "    .dataframe tbody tr th:only-of-type {\n",
       "        vertical-align: middle;\n",
       "    }\n",
       "\n",
       "    .dataframe tbody tr th {\n",
       "        vertical-align: top;\n",
       "    }\n",
       "\n",
       "    .dataframe thead th {\n",
       "        text-align: right;\n",
       "    }\n",
       "</style>\n",
       "<table border=\"1\" class=\"dataframe\">\n",
       "  <thead>\n",
       "    <tr style=\"text-align: right;\">\n",
       "      <th></th>\n",
       "      <th>EntryID</th>\n",
       "      <th>Substrate</th>\n",
       "      <th>EnzymeType</th>\n",
       "      <th>PubMedID</th>\n",
       "      <th>Organism</th>\n",
       "      <th>UniprotID</th>\n",
       "      <th>ECNumber</th>\n",
       "      <th>parameter.type</th>\n",
       "      <th>parameter.associatedSpecies</th>\n",
       "      <th>parameter.startValue</th>\n",
       "      <th>parameter.endValue</th>\n",
       "      <th>parameter.standardDeviation</th>\n",
       "      <th>parameter.unit</th>\n",
       "    </tr>\n",
       "  </thead>\n",
       "  <tbody>\n",
       "    <tr>\n",
       "      <th>0</th>\n",
       "      <td>3804</td>\n",
       "      <td>NAD+;1-Octanol</td>\n",
       "      <td>wildtype class III</td>\n",
       "      <td>2936344.0</td>\n",
       "      <td>Homo sapiens</td>\n",
       "      <td>P11766</td>\n",
       "      <td>1.1.1.1</td>\n",
       "      <td>concentration</td>\n",
       "      <td>NAD+</td>\n",
       "      <td>0.0024</td>\n",
       "      <td>NaN</td>\n",
       "      <td>-</td>\n",
       "      <td>M</td>\n",
       "    </tr>\n",
       "  </tbody>\n",
       "</table>\n",
       "</div>"
      ],
      "text/plain": [
       "   EntryID       Substrate          EnzymeType   PubMedID      Organism  \\\n",
       "0     3804  NAD+;1-Octanol  wildtype class III  2936344.0  Homo sapiens   \n",
       "\n",
       "  UniprotID ECNumber parameter.type parameter.associatedSpecies  \\\n",
       "0    P11766  1.1.1.1  concentration                        NAD+   \n",
       "\n",
       "   parameter.startValue  parameter.endValue parameter.standardDeviation  \\\n",
       "0                0.0024                 NaN                           -   \n",
       "\n",
       "  parameter.unit  \n",
       "0              M  "
      ]
     },
     "execution_count": 5,
     "metadata": {},
     "output_type": "execute_result"
    }
   ],
   "source": [
    "df=pd.read_csv('1.1.1.1.txt',delimiter='\\t')\n",
    "df.head(1)"
   ]
  },
  {
   "cell_type": "code",
   "execution_count": 7,
   "id": "8003cbe9-0f1d-4420-af58-f17b4b75afb6",
   "metadata": {},
   "outputs": [
    {
     "name": "stdout",
     "output_type": "stream",
     "text": [
      "shape---->(517, 13)\n",
      "has none----->False\n"
     ]
    }
   ],
   "source": [
    "kcat_df_query=(df['parameter.type']=='kcat')&(df['parameter.unit']=='s^(-1)')\n",
    "kcat_df=df[kcat_df_query]\n",
    "print(f'shape---->{kcat_df.shape}')\n",
    "print(f'has none----->{kcat_df['parameter.startValue'].isnull().any()}')"
   ]
  },
  {
   "cell_type": "code",
   "execution_count": 18,
   "id": "87f1374d-2cc2-4f6f-a224-6fa10982728f",
   "metadata": {},
   "outputs": [
    {
     "name": "stdout",
     "output_type": "stream",
     "text": [
      "3804\n"
     ]
    },
    {
     "ename": "TypeError",
     "evalue": "tuple indices must be integers or slices, not str",
     "output_type": "error",
     "traceback": [
      "\u001b[1;31m---------------------------------------------------------------------------\u001b[0m",
      "\u001b[1;31mTypeError\u001b[0m                                 Traceback (most recent call last)",
      "Cell \u001b[1;32mIn[18], line 4\u001b[0m\n\u001b[0;32m      2\u001b[0m \u001b[38;5;28;01mfor\u001b[39;00m row \u001b[38;5;129;01min\u001b[39;00m kcat_df\u001b[38;5;241m.\u001b[39mitertuples():\n\u001b[0;32m      3\u001b[0m     \u001b[38;5;28mprint\u001b[39m(row[\u001b[38;5;241m1\u001b[39m])\n\u001b[1;32m----> 4\u001b[0m     query\u001b[38;5;241m=\u001b[39m(df[\u001b[38;5;124m'\u001b[39m\u001b[38;5;124mEntryID\u001b[39m\u001b[38;5;124m'\u001b[39m]\u001b[38;5;241m==\u001b[39mrow[\u001b[38;5;124m'\u001b[39m\u001b[38;5;124mEntryID\u001b[39m\u001b[38;5;124m'\u001b[39m])\u001b[38;5;241m&\u001b[39m(df[\u001b[38;5;124m'\u001b[39m\u001b[38;5;124mparameter.type\u001b[39m\u001b[38;5;124m'\u001b[39m]\u001b[38;5;241m==\u001b[39m\u001b[38;5;124m'\u001b[39m\u001b[38;5;124mKm\u001b[39m\u001b[38;5;124m'\u001b[39m)\n\u001b[0;32m      5\u001b[0m     Km_row\u001b[38;5;241m=\u001b[39mdf[query]\n\u001b[0;32m      6\u001b[0m     pd\u001b[38;5;241m.\u001b[39mconcat([Km,Km_row])\n",
      "\u001b[1;31mTypeError\u001b[0m: tuple indices must be integers or slices, not str"
     ]
    }
   ],
   "source": [
    "Km=pd.DataFrame()\n",
    "for row in kcat_df.itertuples():\n",
    "    print(row[1])\n",
    "    query=(df['EntryID']==row[1])&(df['parameter.type']=='Km')\n",
    "    Km_row=df[query]\n",
    "    pd.concat([Km,Km_row])"
   ]
  },
  {
   "cell_type": "code",
   "execution_count": 103,
   "id": "bdcf6b8a-b379-49a1-ac26-01a19bf7b521",
   "metadata": {},
   "outputs": [
    {
     "data": {
      "text/html": [
       "<div>\n",
       "<style scoped>\n",
       "    .dataframe tbody tr th:only-of-type {\n",
       "        vertical-align: middle;\n",
       "    }\n",
       "\n",
       "    .dataframe tbody tr th {\n",
       "        vertical-align: top;\n",
       "    }\n",
       "\n",
       "    .dataframe thead th {\n",
       "        text-align: right;\n",
       "    }\n",
       "</style>\n",
       "<table border=\"1\" class=\"dataframe\">\n",
       "  <thead>\n",
       "    <tr style=\"text-align: right;\">\n",
       "      <th></th>\n",
       "      <th>ECNumber</th>\n",
       "      <th>Organism</th>\n",
       "      <th>Smiles</th>\n",
       "      <th>Substrate</th>\n",
       "      <th>Sequence</th>\n",
       "      <th>Value</th>\n",
       "      <th>Unit</th>\n",
       "      <th>UniprotID</th>\n",
       "    </tr>\n",
       "  </thead>\n",
       "  <tbody>\n",
       "  </tbody>\n",
       "</table>\n",
       "</div>"
      ],
      "text/plain": [
       "Empty DataFrame\n",
       "Columns: [ECNumber, Organism, Smiles, Substrate, Sequence, Value, Unit, UniprotID]\n",
       "Index: []"
      ]
     },
     "execution_count": 103,
     "metadata": {},
     "output_type": "execute_result"
    }
   ],
   "source": [
    "columns=['ECNumber','Organism','Smiles','Substrate','Sequence','Value','Unit','UniprotID']\n",
    "data=pd.DataFrame(columns=columns)\n",
    "data"
   ]
  },
  {
   "cell_type": "code",
   "execution_count": 104,
   "id": "ff59ac67-fe90-4675-8f92-3b281030a70e",
   "metadata": {},
   "outputs": [],
   "source": [
    "data['ECNumber']=kcat_df['ECNumber']\n",
    "data['Organism']=kcat_df['Organism']\n",
    "data['Substrate']=Km_df['parameter.associatedSpecies']\n",
    "data['Value']=kcat_df['parameter.startValue']\n",
    "data['unit']=kcat_df['parameter.unit']\n",
    "data['UniprotID']=kcat_df['UniprotID']"
   ]
  },
  {
   "cell_type": "code",
   "execution_count": 105,
   "id": "9b4bb461-12d2-409d-ad64-bc96d32ac18f",
   "metadata": {},
   "outputs": [
    {
     "data": {
      "text/html": [
       "<div>\n",
       "<style scoped>\n",
       "    .dataframe tbody tr th:only-of-type {\n",
       "        vertical-align: middle;\n",
       "    }\n",
       "\n",
       "    .dataframe tbody tr th {\n",
       "        vertical-align: top;\n",
       "    }\n",
       "\n",
       "    .dataframe thead th {\n",
       "        text-align: right;\n",
       "    }\n",
       "</style>\n",
       "<table border=\"1\" class=\"dataframe\">\n",
       "  <thead>\n",
       "    <tr style=\"text-align: right;\">\n",
       "      <th></th>\n",
       "      <th>ECNumber</th>\n",
       "      <th>Organism</th>\n",
       "      <th>Smiles</th>\n",
       "      <th>Substrate</th>\n",
       "      <th>Sequence</th>\n",
       "      <th>Value</th>\n",
       "      <th>Unit</th>\n",
       "      <th>UniprotID</th>\n",
       "      <th>unit</th>\n",
       "    </tr>\n",
       "  </thead>\n",
       "  <tbody>\n",
       "    <tr>\n",
       "      <th>2</th>\n",
       "      <td>1.1.1.1</td>\n",
       "      <td>Homo sapiens</td>\n",
       "      <td>NaN</td>\n",
       "      <td>NaN</td>\n",
       "      <td>NaN</td>\n",
       "      <td>2.833333</td>\n",
       "      <td>NaN</td>\n",
       "      <td>P11766</td>\n",
       "      <td>s^(-1)</td>\n",
       "    </tr>\n",
       "    <tr>\n",
       "      <th>3</th>\n",
       "      <td>1.1.1.1</td>\n",
       "      <td>Homo sapiens</td>\n",
       "      <td>NaN</td>\n",
       "      <td>NaN</td>\n",
       "      <td>NaN</td>\n",
       "      <td>0.183333</td>\n",
       "      <td>NaN</td>\n",
       "      <td>P11766</td>\n",
       "      <td>s^(-1)</td>\n",
       "    </tr>\n",
       "    <tr>\n",
       "      <th>6</th>\n",
       "      <td>1.1.1.1</td>\n",
       "      <td>Homo sapiens</td>\n",
       "      <td>NaN</td>\n",
       "      <td>NaN</td>\n",
       "      <td>NaN</td>\n",
       "      <td>0.333333</td>\n",
       "      <td>NaN</td>\n",
       "      <td>P11766</td>\n",
       "      <td>s^(-1)</td>\n",
       "    </tr>\n",
       "    <tr>\n",
       "      <th>9</th>\n",
       "      <td>1.1.1.1</td>\n",
       "      <td>Kluyveromyces lactis</td>\n",
       "      <td>NaN</td>\n",
       "      <td>NaN</td>\n",
       "      <td>NaN</td>\n",
       "      <td>408.333300</td>\n",
       "      <td>NaN</td>\n",
       "      <td>P49384</td>\n",
       "      <td>s^(-1)</td>\n",
       "    </tr>\n",
       "    <tr>\n",
       "      <th>15</th>\n",
       "      <td>1.1.1.1</td>\n",
       "      <td>Kluyveromyces lactis</td>\n",
       "      <td>NaN</td>\n",
       "      <td>NaN</td>\n",
       "      <td>NaN</td>\n",
       "      <td>405.000000</td>\n",
       "      <td>NaN</td>\n",
       "      <td>P49384</td>\n",
       "      <td>s^(-1)</td>\n",
       "    </tr>\n",
       "    <tr>\n",
       "      <th>...</th>\n",
       "      <td>...</td>\n",
       "      <td>...</td>\n",
       "      <td>...</td>\n",
       "      <td>...</td>\n",
       "      <td>...</td>\n",
       "      <td>...</td>\n",
       "      <td>...</td>\n",
       "      <td>...</td>\n",
       "      <td>...</td>\n",
       "    </tr>\n",
       "    <tr>\n",
       "      <th>3498</th>\n",
       "      <td>1.1.1.1</td>\n",
       "      <td>Moraxella sp.</td>\n",
       "      <td>NaN</td>\n",
       "      <td>NaN</td>\n",
       "      <td>NaN</td>\n",
       "      <td>1.663333</td>\n",
       "      <td>NaN</td>\n",
       "      <td>P81786</td>\n",
       "      <td>s^(-1)</td>\n",
       "    </tr>\n",
       "    <tr>\n",
       "      <th>3507</th>\n",
       "      <td>1.1.1.1</td>\n",
       "      <td>Moraxella sp.</td>\n",
       "      <td>NaN</td>\n",
       "      <td>NaN</td>\n",
       "      <td>NaN</td>\n",
       "      <td>0.138333</td>\n",
       "      <td>NaN</td>\n",
       "      <td>P81786</td>\n",
       "      <td>s^(-1)</td>\n",
       "    </tr>\n",
       "    <tr>\n",
       "      <th>3549</th>\n",
       "      <td>1.1.1.1</td>\n",
       "      <td>Saccharomyces cerevisiae</td>\n",
       "      <td>NaN</td>\n",
       "      <td>NaN</td>\n",
       "      <td>NaN</td>\n",
       "      <td>176.000000</td>\n",
       "      <td>NaN</td>\n",
       "      <td>P00330</td>\n",
       "      <td>s^(-1)</td>\n",
       "    </tr>\n",
       "    <tr>\n",
       "      <th>3553</th>\n",
       "      <td>1.1.1.1</td>\n",
       "      <td>Saccharomyces cerevisiae</td>\n",
       "      <td>NaN</td>\n",
       "      <td>NaN</td>\n",
       "      <td>NaN</td>\n",
       "      <td>176.000000</td>\n",
       "      <td>NaN</td>\n",
       "      <td>P00330</td>\n",
       "      <td>s^(-1)</td>\n",
       "    </tr>\n",
       "    <tr>\n",
       "      <th>3579</th>\n",
       "      <td>1.1.1.1</td>\n",
       "      <td>Saccharomyces cerevisiae</td>\n",
       "      <td>NaN</td>\n",
       "      <td>NaN</td>\n",
       "      <td>NaN</td>\n",
       "      <td>0.000000</td>\n",
       "      <td>NaN</td>\n",
       "      <td>P38113</td>\n",
       "      <td>s^(-1)</td>\n",
       "    </tr>\n",
       "  </tbody>\n",
       "</table>\n",
       "<p>517 rows × 9 columns</p>\n",
       "</div>"
      ],
      "text/plain": [
       "     ECNumber                  Organism Smiles Substrate Sequence       Value  \\\n",
       "2     1.1.1.1              Homo sapiens    NaN       NaN      NaN    2.833333   \n",
       "3     1.1.1.1              Homo sapiens    NaN       NaN      NaN    0.183333   \n",
       "6     1.1.1.1              Homo sapiens    NaN       NaN      NaN    0.333333   \n",
       "9     1.1.1.1      Kluyveromyces lactis    NaN       NaN      NaN  408.333300   \n",
       "15    1.1.1.1      Kluyveromyces lactis    NaN       NaN      NaN  405.000000   \n",
       "...       ...                       ...    ...       ...      ...         ...   \n",
       "3498  1.1.1.1             Moraxella sp.    NaN       NaN      NaN    1.663333   \n",
       "3507  1.1.1.1             Moraxella sp.    NaN       NaN      NaN    0.138333   \n",
       "3549  1.1.1.1  Saccharomyces cerevisiae    NaN       NaN      NaN  176.000000   \n",
       "3553  1.1.1.1  Saccharomyces cerevisiae    NaN       NaN      NaN  176.000000   \n",
       "3579  1.1.1.1  Saccharomyces cerevisiae    NaN       NaN      NaN    0.000000   \n",
       "\n",
       "     Unit UniprotID    unit  \n",
       "2     NaN    P11766  s^(-1)  \n",
       "3     NaN    P11766  s^(-1)  \n",
       "6     NaN    P11766  s^(-1)  \n",
       "9     NaN    P49384  s^(-1)  \n",
       "15    NaN    P49384  s^(-1)  \n",
       "...   ...       ...     ...  \n",
       "3498  NaN    P81786  s^(-1)  \n",
       "3507  NaN    P81786  s^(-1)  \n",
       "3549  NaN    P00330  s^(-1)  \n",
       "3553  NaN    P00330  s^(-1)  \n",
       "3579  NaN    P38113  s^(-1)  \n",
       "\n",
       "[517 rows x 9 columns]"
      ]
     },
     "execution_count": 105,
     "metadata": {},
     "output_type": "execute_result"
    }
   ],
   "source": [
    "data"
   ]
  },
  {
   "cell_type": "code",
   "execution_count": 62,
   "id": "08fdae62-ffcb-46f6-820b-aa9d81b8145b",
   "metadata": {},
   "outputs": [],
   "source": [
    "kcat_query=(df['EntryID']==3805)&(df['parameter.type']=='kcat')\n",
    "kcat_row=df[kcat_query].reset_index(drop=True)   #must reset index for get the volue of the cell\n",
    "Km_query=(df['EntryID']==3805)&(df['parameter.type']=='Km')\n",
    "Km_row=df[kcat_query].reset_index(drop=True)  \n",
    "##???bug"
   ]
  },
  {
   "cell_type": "code",
   "execution_count": 64,
   "id": "df20cc50-412d-4a8f-9db3-d963adfdf4f3",
   "metadata": {},
   "outputs": [
    {
     "data": {
      "text/plain": [
       "3805"
      ]
     },
     "execution_count": 64,
     "metadata": {},
     "output_type": "execute_result"
    }
   ],
   "source": [
    "Km_row.at[0,'EntryID']"
   ]
  },
  {
   "cell_type": "code",
   "execution_count": 65,
   "id": "eacd205c-5c11-4eac-ae5b-8cb31304fa41",
   "metadata": {},
   "outputs": [],
   "source": [
    "columns=['ECNumber','Organism','Smiles','Substrate','Sequence','Value','Unit','UniprotID']\n",
    "data=pd.DataFrame(columns=columns)\n",
    "row_number=0\n",
    "data.at[row_number,'ECNumber']=kcat_row.at[0,'ECNumber']\n",
    "data.at[row_number,'Organism']=kcat_row.at[0,'Organism']\n",
    "data.at[row_number,'Substrate']=Km_row.at[0,'parameter.associatedSpecies']\n",
    "data.at[row_number,'Value']=kcat_row.at[0,'parameter.startValue']\n",
    "data.at[row_number,'unit']=kcat_row.at[0,'parameter.unit']\n",
    "data.at[row_number,'UniprotID']=kcat_row.at[0,'UniprotID']\n"
   ]
  },
  {
   "cell_type": "code",
   "execution_count": 68,
   "id": "29f2e177-f2ba-4b30-8656-b4d3bf483b0c",
   "metadata": {},
   "outputs": [
    {
     "data": {
      "text/html": [
       "<div>\n",
       "<style scoped>\n",
       "    .dataframe tbody tr th:only-of-type {\n",
       "        vertical-align: middle;\n",
       "    }\n",
       "\n",
       "    .dataframe tbody tr th {\n",
       "        vertical-align: top;\n",
       "    }\n",
       "\n",
       "    .dataframe thead th {\n",
       "        text-align: right;\n",
       "    }\n",
       "</style>\n",
       "<table border=\"1\" class=\"dataframe\">\n",
       "  <thead>\n",
       "    <tr style=\"text-align: right;\">\n",
       "      <th></th>\n",
       "      <th>ECNumber</th>\n",
       "      <th>Organism</th>\n",
       "      <th>Smiles</th>\n",
       "      <th>Substrate</th>\n",
       "      <th>Sequence</th>\n",
       "      <th>Value</th>\n",
       "      <th>Unit</th>\n",
       "      <th>UniprotID</th>\n",
       "    </tr>\n",
       "  </thead>\n",
       "  <tbody>\n",
       "    <tr>\n",
       "      <th>0</th>\n",
       "      <td>1.1.1.1</td>\n",
       "      <td>Homo sapiens</td>\n",
       "      <td>NaN</td>\n",
       "      <td>NaN</td>\n",
       "      <td>NaN</td>\n",
       "      <td>0.183333</td>\n",
       "      <td>NaN</td>\n",
       "      <td>P11766</td>\n",
       "    </tr>\n",
       "  </tbody>\n",
       "</table>\n",
       "</div>"
      ],
      "text/plain": [
       "  ECNumber      Organism Smiles Substrate Sequence     Value Unit UniprotID\n",
       "0  1.1.1.1  Homo sapiens    NaN       NaN      NaN  0.183333  NaN    P11766"
      ]
     },
     "execution_count": 68,
     "metadata": {},
     "output_type": "execute_result"
    }
   ],
   "source": [
    "data"
   ]
  },
  {
   "cell_type": "code",
   "execution_count": null,
   "id": "40dac4d6-f78b-4dad-9f9e-551c9c7c73c8",
   "metadata": {},
   "outputs": [],
   "source": []
  }
 ],
 "metadata": {
  "kernelspec": {
   "display_name": "Python 3 (ipykernel)",
   "language": "python",
   "name": "python3"
  },
  "language_info": {
   "codemirror_mode": {
    "name": "ipython",
    "version": 3
   },
   "file_extension": ".py",
   "mimetype": "text/x-python",
   "name": "python",
   "nbconvert_exporter": "python",
   "pygments_lexer": "ipython3",
   "version": "3.12.4"
  }
 },
 "nbformat": 4,
 "nbformat_minor": 5
}
