import pandas as pd


df=pd.read_csv('1.1.1.1.txt',delimiter='\t')
#select kcat
df_kcat=df[(df['parameter.type']=='kcat')&(df['parameter.unit']!='-')]
df_kcat.head(1)


data=pd.DataFrame()
        "ECNumber": "1.1.1.1",
        "Organism": "Homo sapiens",
        "Smiles": "CC1=C(C(CCC1)(C)C)C=CC(=CC=CC(=CCO)C)C",
        "Substrate": "all-trans-Retinol",
        "Sequence": "MGTKGKVIKCKAAIAWEAGKPLCIEEVEVAPPKAHEVRIQIIATSLCHTDATVIDSKFEGLAFPVIVGHEAAGIVESIGPGVTNVKPGDKVIPLYAPLCRKCKFCLSPLTNLCGKISNLKSPASDQQLMEDKTSRFTCKGKPVYHFFGTSTFSQYTVVSDINLAKIDDDANLERVCLLGCGFSTGYGAAINNAKVTPGSTCAVFGLGGVGLSAVMGCKAAGASRIIGIDINSEKFVKAKALGATDCLNPRDLHKPIQEVIIELTKGGVDFALDCAGGSETMKAALDCTTAGWGSCTFIGVAAGSKGLTIFPEELIIGRTINGTFFGGWKSVDSIPKLVTDYKNKKFNLDALVTHTLPFDKISEAFDLMNQGKSVRTILIF",
        "Value": "3.16666667",
        "Unit": "s^(-1)"


columns=['ECNumber','Organism','Smiles','Substrate','Sequence','Value','Unit','UniprotID']


data=pd.DataFrame(columns=columns)


data['ECNumber']=df_kcat['ECNumber']
data['Organism']=df_kcat['Organism']
data['Substrate']=df_kcat['Substrate']
data['Value']=df_kcat['parameter.startValue']
data['Unit']=df_kcat['parameter.unit']
data['UniprotID']=df_kcat['UniprotID']



del data['unit']


data


[1,2]==[2,1]


a='1,2'
set(a.split(','))


'NAD+;Ethanol'.s=='Ethanol;NAD+'.sort()



