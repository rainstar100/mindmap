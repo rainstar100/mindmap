import pandas as pd


df=pd.read_csv('brenda_combine_csv.csv')


df


columns=['ECNumber','Organism','Smiles','Substrate','Sequence','Value','Unit','UniprotID']


data=pd.DataFrame(columns=columns)


data['ECNumber']=df_kcat['ECNumber']
data['Organism']=df_kcat['Organism']
data['Substrate']=df_kcat['Substrate']
data['Value']=df_kcat['parameter.startValue']
data['Unit']=df_kcat['parameter.unit']
data['UniprotID']=df_kcat['UniprotID']



del data['unit']


data


[1,2]==[2,1]


a='1,2'
set(a.split(','))


'NAD+;Ethanol'.s=='Ethanol;NAD+'.sort()



