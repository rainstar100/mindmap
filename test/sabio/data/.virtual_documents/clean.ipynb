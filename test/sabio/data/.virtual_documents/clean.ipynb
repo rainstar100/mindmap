import pandas as pd


df=pd.read_csv('1.1.1.1.txt',delimiter='\t')
#select kcat
df_kcat=df[(df['parameter.type']=='kcat')&(df['parameter.unit']!='-')]
df_kcat.head(2)


conditions=(df['parameter.type']=='Km')&(df['EntryID']==df_kcat.iloc[0,:]['EntryID'])

df_km=df[conditions]
Species=df_km['parameter.associatedSpecies']
df_kcat['Substrate']=Species


df_kcat


columns=['ECNumber','Organism','Smiles','Substrate','Sequence','Value','Unit','UniprotID']


data=pd.DataFrame(columns=columns)


data['ECNumber']=df_kcat['ECNumber']
data['Organism']=df_kcat['Organism']
data['Substrate']=df_kcat['Substrate']
data['Value']=df_kcat['parameter.startValue']
data['Unit']=df_kcat['parameter.unit']
data['UniprotID']=df_kcat['UniprotID']



del data['unit']


data


[1,2]==[2,1]


a='1,2'
set(a.split(','))


'NAD+;Ethanol'.s=='Ethanol;NAD+'.sort()


del df['EntryID']


df.tail(100).iloc[:,[0,5,6,7,8,9]]


[print(i) for i in df['parameter.type']]




