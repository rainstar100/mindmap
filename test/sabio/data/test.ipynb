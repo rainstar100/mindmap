{
 "cells": [
  {
   "cell_type": "code",
   "execution_count": 1,
   "id": "31c437f6-07e4-423e-aa3f-75e5762161f1",
   "metadata": {},
   "outputs": [],
   "source": [
    "import pandas as pd"
   ]
  },
  {
   "cell_type": "code",
   "execution_count": 2,
   "id": "e2478cad-6a20-4d2e-aeda-6cec45c02a81",
   "metadata": {},
   "outputs": [],
   "source": [
    "#import data\n",
    "df=pd.read_csv('sabio_combine_csv.csv',encoding='utf-8',low_memory=False)"
   ]
  },
  {
   "cell_type": "code",
   "execution_count": 6,
   "id": "4c1423df-9d74-4d19-bd36-37f135f9d031",
   "metadata": {},
   "outputs": [
    {
     "name": "stdout",
     "output_type": "stream",
     "text": [
      "before clean1, the shape is (27315, 15)\n"
     ]
    }
   ],
   "source": [
    "#query kcat\n",
    "#query interested data\n",
    "kcat_query=(df['parameter.type']=='kcat')\n",
    "kcat=df[kcat_query]\n",
    "print(f'before clean1, the shape is {kcat.shape}')"
   ]
  },
  {
   "cell_type": "code",
   "execution_count": 35,
   "id": "d6036dab-af6d-4da2-ad06-82478f11aeac",
   "metadata": {},
   "outputs": [
    {
     "name": "stdout",
     "output_type": "stream",
     "text": [
      "[ True  True  True ...  True  True  True]\n"
     ]
    }
   ],
   "source": [
    "#replace substrate\n",
    "df_split=kcat['Substrate'].str.split(';',expand=True).fillna('1')\n",
    "def replace_substrate(row):\n",
    "    longest=max(row,key=len)\n",
    "    if len(longest)>=6:\n",
    "        return longest\n",
    "    else:\n",
    "        return None\n",
    "\n",
    "newSubstrate=df_split.apply(replace_substrate,axis=1)\n",
    "print(newSubstrate.index==kcat.index)\n",
    "kcat.loc[:,'Substrate']=newSubstrate\n"
   ]
  },
  {
   "cell_type": "code",
   "execution_count": 34,
   "id": "c5134c59-2161-4cc6-b7b6-7b4546fb8436",
   "metadata": {},
   "outputs": [
    {
     "name": "stdout",
     "output_type": "stream",
     "text": [
      "Index([     2,      3,      6,      9,     15,     17,     24,     26,     30,\n",
      "           35,\n",
      "       ...\n",
      "       313719, 313722, 313725, 313727, 313731, 313733, 313735, 313740, 314104,\n",
      "       314156],\n",
      "      dtype='int64', length=27315)\n",
      "Index([     2,      3,      6,      9,     15,     17,     24,     26,     30,\n",
      "           35,\n",
      "       ...\n",
      "       313719, 313722, 313725, 313727, 313731, 313733, 313735, 313740, 314104,\n",
      "       314156],\n",
      "      dtype='int64', length=27315)\n"
     ]
    }
   ],
   "source": []
  },
  {
   "cell_type": "code",
   "execution_count": 108,
   "id": "d72b4fbd-8173-48ea-af92-4f34c93a6a61",
   "metadata": {},
   "outputs": [
    {
     "name": "stdout",
     "output_type": "stream",
     "text": [
      "after clean1 the shape is (7407, 15)\n"
     ]
    },
    {
     "name": "stderr",
     "output_type": "stream",
     "text": [
      "C:\\Users\\Administrator\\AppData\\Local\\Temp\\ipykernel_3260\\1346059628.py:8: UserWarning: Boolean Series key will be reindexed to match DataFrame index.\n",
      "  kcat_cleaned=kcat[clean_unit&clean_UniprotID&clean_startValue&clean_substrate]\n"
     ]
    }
   ],
   "source": [
    "#clean kcat\n",
    "#clean dataset\n",
    "##clean1 clean unit UniprotID,startValue\n",
    "clean_unit=(kcat['parameter.unit']=='s^(-1)')\n",
    "clean_UniprotID=(kcat['UniprotID'].notna())&(df['UniprotID'].str.len()==6)\n",
    "clean_startValue=(kcat['parameter.startValue'].notna())\n",
    "clean_substrate=(kcat['Substrate'].notna())\n",
    "kcat_cleaned=kcat[clean_unit&clean_UniprotID&clean_startValue&clean_substrate]\n",
    "#kcat_cleaned_unique=kcat_cleaned.loc[kcat_cleaned.groupby(['Substrate','UniprotID'])['parameter.startValue'].max()]\n",
    "print(f'after clean1 the shape is {kcat_cleaned_unique.shape}')\n"
   ]
  },
  {
   "cell_type": "code",
   "execution_count": 118,
   "id": "6247acb4-30d0-4908-912e-97f4ea30c380",
   "metadata": {},
   "outputs": [],
   "source": []
  },
  {
   "cell_type": "code",
   "execution_count": 133,
   "id": "40c05fd3-4a50-4a32-a5f0-b668db552f71",
   "metadata": {},
   "outputs": [],
   "source": [
    "data=pd.DataFrame()\n",
    "data.loc[:,'ECNumber']=kcat_cleaned['ECNumber']\n",
    "data.loc[:,'Organism']=kcat_cleaned['Organism']\n",
    "data.loc[:,'Smiles']=''\n",
    "data.loc[:,'Sequence']=''\n",
    "data.loc[:,'Substrate']=kcat_cleaned['Substrate']\n",
    "data.loc[:,'Value']=kcat_cleaned['parameter.startValue']\n",
    "data.loc[:,'Unit']=kcat_cleaned['parameter.unit']\n",
    "data.loc[:,'UniprotID']=kcat_cleaned['UniprotID']"
   ]
  },
  {
   "cell_type": "code",
   "execution_count": 135,
   "id": "8f134291-cc77-4eec-be97-7113d0d32d63",
   "metadata": {},
   "outputs": [],
   "source": [
    "data.to_csv('sabio_cleaned.csv',index=False,encoding='utf-8')"
   ]
  },
  {
   "cell_type": "code",
   "execution_count": null,
   "id": "fac56b7e-ff2f-4726-a31f-919f244e1af8",
   "metadata": {},
   "outputs": [],
   "source": []
  }
 ],
 "metadata": {
  "kernelspec": {
   "display_name": "Python 3 (ipykernel)",
   "language": "python",
   "name": "python3"
  },
  "language_info": {
   "codemirror_mode": {
    "name": "ipython",
    "version": 3
   },
   "file_extension": ".py",
   "mimetype": "text/x-python",
   "name": "python",
   "nbconvert_exporter": "python",
   "pygments_lexer": "ipython3",
   "version": "3.12.4"
  }
 },
 "nbformat": 4,
 "nbformat_minor": 5
}
