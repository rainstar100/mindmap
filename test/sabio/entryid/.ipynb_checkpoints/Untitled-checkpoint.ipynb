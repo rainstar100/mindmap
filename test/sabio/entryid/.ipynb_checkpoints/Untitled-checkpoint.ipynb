{
 "cells": [
  {
   "cell_type": "code",
   "execution_count": 2,
   "id": "508c6099-ff25-4bf5-862f-9b1cd4e74355",
   "metadata": {},
   "outputs": [],
   "source": [
    "import requests\n",
    "\n",
    "ENTRYID_QUERY_URL = 'http://sabiork.h-its.org/sabioRestWebServices/searchKineticLaws/entryIDs'\n",
    "\n",
    "\n",
    "# ask SABIO-RK for all EntryIDs matching a query\n",
    "\n",
    "query_dict = {\"ECNumber\":\"*\"}\n",
    "query_string = ' AND '.join(['%s:%s' % (k,v) for k,v in query_dict.items()])\n",
    "query = {'format':'txt', 'q':query_string}"
   ]
  },
  {
   "cell_type": "code",
   "execution_count": 4,
   "id": "f69648e7-e3c6-4064-8c9a-2325a1d07062",
   "metadata": {},
   "outputs": [],
   "source": [
    "request = requests.get(ENTRYID_QUERY_URL, params = query)\n",
    "request.raise_for_status() # raise if 404 error"
   ]
  },
  {
   "cell_type": "code",
   "execution_count": 11,
   "id": "8900ab1c-f8ac-4303-9f74-b3c8ae158234",
   "metadata": {},
   "outputs": [
    {
     "name": "stdout",
     "output_type": "stream",
     "text": [
      "74408 matching entries found.\n"
     ]
    }
   ],
   "source": [
    "# each entry is reported on a new line\n",
    "\n",
    "entryIDs = [int(x) for x in request.text.strip().split('\\n')]\n",
    "print('%d matching entries found.' % len(entryIDs))"
   ]
  },
  {
   "cell_type": "code",
   "execution_count": 93,
   "id": "09247051-1c06-4177-a8d0-1cba51b47c80",
   "metadata": {},
   "outputs": [],
   "source": [
    "# encode next request, for parameter data given entry IDs\n",
    "\n",
    "#query = {'entryIDs[]':entryIDs[0], 'format':'tsv', 'fields[]':['EntryID','ReactomeReactionID', 'Organism', 'UniprotID','ECNumber', 'Parameter']}\n",
    "\n",
    "query = {'entryIDs[]':entryIDs[0], 'format':'tsv','fields[]':['Product','Substrate','ECNumber','Cofactor','UniprotID','Parameter','Temperature','pH','Buffer']}\n"
   ]
  },
  {
   "cell_type": "code",
   "execution_count": 94,
   "id": "9af8692c-ab70-4fa3-9c7b-24043ca2e9e8",
   "metadata": {},
   "outputs": [
    {
     "name": "stdout",
     "output_type": "stream",
     "text": [
      "Product\tSubstrate\tECNumber\tCofactor\tUniprotID\tparameter.type\tparameter.associatedSpecies\tparameter.startValue\tparameter.endValue\tparameter.standardDeviation\tparameter.unit\tTemperature\tpH\n",
      "Peptide\tH2O;Peptide\t3.4.21.62\t\t\tKi\tN-(Carbobenzoxy)-Leu-Leu-Phe-trifluoromethylketone\t1.8E-8\t\t-\tM\t25.0\t7.5\n",
      "Peptide\tH2O;Peptide\t3.4.21.62\t\t\tkcat/Km\tPeptide\t120000.0\t\t-\tM^(-1)*s^(-1)\t25.0\t7.5\n",
      "Peptide\tH2O;Peptide\t3.4.21.62\t\t\tkcat\t\t220.0\t\t-\ts^(-1)\t25.0\t7.5\n",
      "Peptide\tH2O;Peptide\t3.4.21.62\t\t\tKm\tPeptide\t0.0019\t\t-\tM\t25.0\t7.5\n",
      "\n"
     ]
    }
   ],
   "source": [
    "# make POST request\n",
    "PARAM_QUERY_URL = 'http://sabiork.h-its.org/entry/exportToExcelCustomizable'\n",
    "request = requests.post(PARAM_QUERY_URL, params=query)\n",
    "request.raise_for_status()\n",
    "\n",
    "\n",
    "# results\n",
    "\n",
    "print(request.text)"
   ]
  },
  {
   "cell_type": "code",
   "execution_count": null,
   "id": "8b99d6dc-7245-4f04-ae72-1425d5e9afa3",
   "metadata": {},
   "outputs": [],
   "source": []
  }
 ],
 "metadata": {
  "kernelspec": {
   "display_name": "Python 3 (ipykernel)",
   "language": "python",
   "name": "python3"
  },
  "language_info": {
   "codemirror_mode": {
    "name": "ipython",
    "version": 3
   },
   "file_extension": ".py",
   "mimetype": "text/x-python",
   "name": "python",
   "nbconvert_exporter": "python",
   "pygments_lexer": "ipython3",
   "version": "3.12.4"
  }
 },
 "nbformat": 4,
 "nbformat_minor": 5
}
